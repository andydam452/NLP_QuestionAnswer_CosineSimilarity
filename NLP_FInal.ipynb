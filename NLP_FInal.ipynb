{
 "cells": [
  {
   "cell_type": "code",
   "execution_count": 168,
   "metadata": {},
   "outputs": [],
   "source": [
    "import pandas as pd\n",
    "from pyvi import ViTokenizer, ViPosTagger\n",
    "import nltk\n",
    "import numpy as np\n",
    "import warnings\n",
    "warnings.filterwarnings('ignore')"
   ]
  },
  {
   "cell_type": "code",
   "execution_count": 169,
   "metadata": {},
   "outputs": [
    {
     "name": "stdout",
     "output_type": "stream",
     "text": [
      "18\n"
     ]
    }
   ],
   "source": [
    "# filename = \"./dataset/bạn bè.txt\"\n",
    "# df = pd.read_fwf(filename,header = None, encoding=\"utf-8\")\n",
    "filename =[\"bạn bè.txt\",\"các câu hỏi phức tạp.txt\",\"du lịch.txt\",\"gia đình.txt\",\"giải trí.txt\",\n",
    "           \"học tập.txt\",\"nghề nghiệp.txt\",\"nghỉ lễ.txt\",\"người yêu.txt\",\"robot.txt\",\"shoping.txt\",\n",
    "           \"sở thích.txt\",\"tdtu.txt\",\"thông tin cá nhân.txt\",\"trò chuyện về đi ăn.txt\",\"tán gẫu.txt\",\"đất nước.txt\",\"địa chỉ.txt\"]\n",
    "# df = pd.read_fwf(filename,header = None)\n",
    "# df.head()\n",
    "print(len(filename))"
   ]
  },
  {
   "cell_type": "code",
   "execution_count": 170,
   "metadata": {},
   "outputs": [],
   "source": [
    "temp_ques = []\n",
    "temp_ans = []\n",
    "tag = []\n",
    "for k in range(len(filename)):\n",
    "    with open(filename[k]) as f:\n",
    "        lines = f.readlines()\n",
    "    for i in range(len(lines)):\n",
    "        if lines[i].startswith('__eou__'):\n",
    "            continue\n",
    "        else:\n",
    "            part = lines[i].strip('__eou__').split('__eou__')\n",
    "            temp_ques.append(ViTokenizer.tokenize(part[0].lower().strip()))\n",
    "            temp_ans.append(ViTokenizer.tokenize(part[1].lower().strip()))\n",
    "            tag.append(filename[k].split(\".\")[0])"
   ]
  },
  {
   "cell_type": "code",
   "execution_count": 171,
   "metadata": {},
   "outputs": [
    {
     "data": {
      "text/html": [
       "<div>\n",
       "<style scoped>\n",
       "    .dataframe tbody tr th:only-of-type {\n",
       "        vertical-align: middle;\n",
       "    }\n",
       "\n",
       "    .dataframe tbody tr th {\n",
       "        vertical-align: top;\n",
       "    }\n",
       "\n",
       "    .dataframe thead th {\n",
       "        text-align: right;\n",
       "    }\n",
       "</style>\n",
       "<table border=\"1\" class=\"dataframe\">\n",
       "  <thead>\n",
       "    <tr style=\"text-align: right;\">\n",
       "      <th></th>\n",
       "      <th>Question</th>\n",
       "      <th>Answer</th>\n",
       "      <th>Tag</th>\n",
       "    </tr>\n",
       "  </thead>\n",
       "  <tbody>\n",
       "    <tr>\n",
       "      <th>0</th>\n",
       "      <td>thích đánh_lộn không ?</td>\n",
       "      <td>ngon nhào vô</td>\n",
       "      <td>bạn bè</td>\n",
       "    </tr>\n",
       "    <tr>\n",
       "      <th>1</th>\n",
       "      <td>solo yasua không</td>\n",
       "      <td>chấp lun 2 mạng đầu</td>\n",
       "      <td>bạn bè</td>\n",
       "    </tr>\n",
       "    <tr>\n",
       "      <th>2</th>\n",
       "      <td>mai đi picnic không ?</td>\n",
       "      <td>mai bận học rồi</td>\n",
       "      <td>bạn bè</td>\n",
       "    </tr>\n",
       "    <tr>\n",
       "      <th>3</th>\n",
       "      <td>mai học ca mấy vậy ?</td>\n",
       "      <td>mai học ca 3</td>\n",
       "      <td>bạn bè</td>\n",
       "    </tr>\n",
       "    <tr>\n",
       "      <th>4</th>\n",
       "      <td>còn tiền không ?</td>\n",
       "      <td>còn chết liền</td>\n",
       "      <td>bạn bè</td>\n",
       "    </tr>\n",
       "  </tbody>\n",
       "</table>\n",
       "</div>"
      ],
      "text/plain": [
       "                 Question               Answer     Tag\n",
       "0  thích đánh_lộn không ?         ngon nhào vô  bạn bè\n",
       "1        solo yasua không  chấp lun 2 mạng đầu  bạn bè\n",
       "2   mai đi picnic không ?      mai bận học rồi  bạn bè\n",
       "3    mai học ca mấy vậy ?         mai học ca 3  bạn bè\n",
       "4        còn tiền không ?        còn chết liền  bạn bè"
      ]
     },
     "execution_count": 171,
     "metadata": {},
     "output_type": "execute_result"
    }
   ],
   "source": [
    "data = pd.DataFrame({'Question':temp_ques,'Answer':temp_ans,'Tag':tag})\n",
    "data.head()"
   ]
  },
  {
   "cell_type": "code",
   "execution_count": 172,
   "metadata": {},
   "outputs": [],
   "source": [
    "ques = np.array(data[\"Question\"])\n",
    "ans = np.array(data[\"Answer\"])\n",
    "ques_sentences=[nltk.word_tokenize(sent) for sent in ques]\n",
    "ans_sentences=[nltk.word_tokenize(sent) for sent in ans] "
   ]
  },
  {
   "cell_type": "code",
   "execution_count": 173,
   "metadata": {},
   "outputs": [],
   "source": [
    "# stop_word ={'bị','bởi','cả','các', 'cái','cần','càng','chỉ','chiếc','cho','chứ','chưa',\n",
    "#             'chuyện','có','có_thể','cứ','của','cùng','cũng','đã','đang','đây','để','đến_nỗi',\n",
    "#             'đều','điều','do','đó','được','dưới','gì','khi','không','là','lại','lên','lúc','mà',\n",
    "#             'mỗi','một_cách','này','nên','nếu','ngay','nhiều','như','nhưng','những','nơi','nữa',\n",
    "#             'phải','qua','ra','rằng','rằng','rất','rất','rồi','sau','sẽ','so','sự','tại','theo',\n",
    "#             'thì','trên','trước','từ','từng','và','vẫn','vào','vậy','vì','việc','với','vừa'}"
   ]
  },
  {
   "cell_type": "code",
   "execution_count": 174,
   "metadata": {},
   "outputs": [],
   "source": [
    "def clean_sentences(sentences):\n",
    "    Punc = {'.', ',', '...', '-', '“', '”', ':', '(', ')', '\"', '!', '&', ';', '?', '*', ']', '>', '…', '’',\"``\",\"''\"}\n",
    "    clean_sent = []\n",
    "    for sent in sentences:\n",
    "        temp =[]\n",
    "        for item in sent:\n",
    "            if item in Punc:\n",
    "                continue\n",
    "            elif(item.isdigit()):\n",
    "                temp.append(\"Num\")\n",
    "            else:\n",
    "                temp.append(item)\n",
    "        clean_sent.append(temp)\n",
    "    return clean_sent"
   ]
  },
  {
   "cell_type": "code",
   "execution_count": 175,
   "metadata": {},
   "outputs": [],
   "source": [
    "def clean_one_sentence(sentences):\n",
    "    Punc = {'.', ',', '...', '-', '“', '”', ':', '(', ')', '\"', '!', '&', ';', '?', '*', ']', '>', '…', '’',\"``\",\"''\"}\n",
    "    clean_sent = []\n",
    "    for sent in sentences:\n",
    "        if sent in Punc :\n",
    "            continue\n",
    "        elif(sent.isdigit()):\n",
    "            clean_sent.append(\"Num\")\n",
    "        else:\n",
    "            clean_sent.append(sent)\n",
    "    return clean_sent"
   ]
  },
  {
   "cell_type": "code",
   "execution_count": 176,
   "metadata": {},
   "outputs": [
    {
     "name": "stdout",
     "output_type": "stream",
     "text": [
      "5855\n"
     ]
    }
   ],
   "source": [
    "#tfidf clean question\n",
    "clean_question = []\n",
    "for i in range(len(clean_ques)):\n",
    "    tmp = ' '.join(clean_ques[i])\n",
    "    clean_question.append(tmp)\n",
    "print(len(clean_question))"
   ]
  },
  {
   "cell_type": "code",
   "execution_count": 177,
   "metadata": {},
   "outputs": [
    {
     "data": {
      "text/html": [
       "<div>\n",
       "<style scoped>\n",
       "    .dataframe tbody tr th:only-of-type {\n",
       "        vertical-align: middle;\n",
       "    }\n",
       "\n",
       "    .dataframe tbody tr th {\n",
       "        vertical-align: top;\n",
       "    }\n",
       "\n",
       "    .dataframe thead th {\n",
       "        text-align: right;\n",
       "    }\n",
       "</style>\n",
       "<table border=\"1\" class=\"dataframe\">\n",
       "  <thead>\n",
       "    <tr style=\"text-align: right;\">\n",
       "      <th></th>\n",
       "      <th>Question</th>\n",
       "      <th>Answer</th>\n",
       "      <th>Tag</th>\n",
       "      <th>TC_Question</th>\n",
       "      <th>Tfidf_Question</th>\n",
       "    </tr>\n",
       "  </thead>\n",
       "  <tbody>\n",
       "    <tr>\n",
       "      <th>0</th>\n",
       "      <td>thích đánh_lộn không ?</td>\n",
       "      <td>ngon nhào vô</td>\n",
       "      <td>bạn bè</td>\n",
       "      <td>[thích, đánh_lộn, không]</td>\n",
       "      <td>thích đánh_lộn không</td>\n",
       "    </tr>\n",
       "    <tr>\n",
       "      <th>1</th>\n",
       "      <td>solo yasua không</td>\n",
       "      <td>chấp lun 2 mạng đầu</td>\n",
       "      <td>bạn bè</td>\n",
       "      <td>[solo, yasua, không]</td>\n",
       "      <td>solo yasua không</td>\n",
       "    </tr>\n",
       "    <tr>\n",
       "      <th>2</th>\n",
       "      <td>mai đi picnic không ?</td>\n",
       "      <td>mai bận học rồi</td>\n",
       "      <td>bạn bè</td>\n",
       "      <td>[mai, đi, picnic, không]</td>\n",
       "      <td>mai đi picnic không</td>\n",
       "    </tr>\n",
       "    <tr>\n",
       "      <th>3</th>\n",
       "      <td>mai học ca mấy vậy ?</td>\n",
       "      <td>mai học ca 3</td>\n",
       "      <td>bạn bè</td>\n",
       "      <td>[mai, học, ca, mấy, vậy]</td>\n",
       "      <td>mai học ca mấy vậy</td>\n",
       "    </tr>\n",
       "    <tr>\n",
       "      <th>4</th>\n",
       "      <td>còn tiền không ?</td>\n",
       "      <td>còn chết liền</td>\n",
       "      <td>bạn bè</td>\n",
       "      <td>[còn, tiền, không]</td>\n",
       "      <td>còn tiền không</td>\n",
       "    </tr>\n",
       "  </tbody>\n",
       "</table>\n",
       "</div>"
      ],
      "text/plain": [
       "                 Question               Answer     Tag  \\\n",
       "0  thích đánh_lộn không ?         ngon nhào vô  bạn bè   \n",
       "1        solo yasua không  chấp lun 2 mạng đầu  bạn bè   \n",
       "2   mai đi picnic không ?      mai bận học rồi  bạn bè   \n",
       "3    mai học ca mấy vậy ?         mai học ca 3  bạn bè   \n",
       "4        còn tiền không ?        còn chết liền  bạn bè   \n",
       "\n",
       "                TC_Question        Tfidf_Question  \n",
       "0  [thích, đánh_lộn, không]  thích đánh_lộn không  \n",
       "1      [solo, yasua, không]      solo yasua không  \n",
       "2  [mai, đi, picnic, không]   mai đi picnic không  \n",
       "3  [mai, học, ca, mấy, vậy]    mai học ca mấy vậy  \n",
       "4        [còn, tiền, không]        còn tiền không  "
      ]
     },
     "execution_count": 177,
     "metadata": {},
     "output_type": "execute_result"
    }
   ],
   "source": [
    "clean_ques = clean_sentences(ques_sentences)\n",
    "clean_ans = clean_sentences(ans_sentences)\n",
    "data.insert(3,\"TC_Question\",clean_ques)\n",
    "data.insert(4,\"Tfidf_Question\",clean_question)\n",
    "# print(len(clean_ques))\n",
    "# print(len(clean_ans))\n",
    "data.head()"
   ]
  },
  {
   "cell_type": "code",
   "execution_count": 10,
   "metadata": {},
   "outputs": [
    {
     "data": {
      "text/plain": [
       "['thích', 'đánh_lộn', 'không']"
      ]
     },
     "execution_count": 10,
     "metadata": {},
     "output_type": "execute_result"
    }
   ],
   "source": [
    "clean_ques[0]"
   ]
  },
  {
   "cell_type": "markdown",
   "metadata": {},
   "source": [
    "# word2vec"
   ]
  },
  {
   "cell_type": "code",
   "execution_count": 11,
   "metadata": {},
   "outputs": [],
   "source": [
    "from gensim.models import Word2Vec\n",
    "model = Word2Vec(clean_ques, min_count = 1,size = 100)"
   ]
  },
  {
   "cell_type": "code",
   "execution_count": 12,
   "metadata": {},
   "outputs": [],
   "source": [
    "def convert2vec(words):\n",
    "    _sum = np.array([0]*100)\n",
    "    for word in words:\n",
    "        if not(word in model.wv.vocab):\n",
    "            continue\n",
    "        vec = model.wv[word]\n",
    "        _sum = _sum + vec\n",
    "    return _sum/len(words)"
   ]
  },
  {
   "cell_type": "code",
   "execution_count": 347,
   "metadata": {},
   "outputs": [],
   "source": [
    "X = []\n",
    "for sent in clean_ques:\n",
    "    if len(sent) == 0:\n",
    "        X.append(np.array([0]*100))\n",
    "    else:\n",
    "        X.append(convert2vec(sent))\n",
    "X = np.array(X)"
   ]
  },
  {
   "cell_type": "markdown",
   "metadata": {},
   "source": [
    "# Counter"
   ]
  },
  {
   "cell_type": "code",
   "execution_count": 14,
   "metadata": {},
   "outputs": [],
   "source": [
    "import math\n",
    "from collections import Counter"
   ]
  },
  {
   "cell_type": "code",
   "execution_count": 15,
   "metadata": {},
   "outputs": [],
   "source": [
    "def get_cosine(vec1, vec2):\n",
    "    intersection = set(vec1.keys()) & set(vec2.keys())\n",
    "    numerator = sum([vec1[x] * vec2[x] for x in intersection])\n",
    "\n",
    "    sum1 = sum([vec1[x]**2 for x in vec1.keys()])\n",
    "    sum2 = sum([vec2[x]**2 for x in vec2.keys()])\n",
    "    denominator = math.sqrt(sum1) * math.sqrt(sum2)\n",
    "\n",
    "    if not denominator:\n",
    "        return 0.0\n",
    "    else:\n",
    "        return float(numerator) / denominator"
   ]
  },
  {
   "cell_type": "code",
   "execution_count": 16,
   "metadata": {},
   "outputs": [],
   "source": [
    "def chat(input_):\n",
    "    x = ViTokenizer.tokenize(input_).lower().strip()\n",
    "    text1 = clean_one_sentence(nltk.word_tokenize(x))\n",
    "    vector1 = Counter(text1)\n",
    "    cosin = []\n",
    "    # temp = []\n",
    "\n",
    "    for i in range(len(clean_ques)):\n",
    "        text2 = clean_ques[i]\n",
    "        vector2 = Counter(text2)\n",
    "        cosin.append([get_cosine(vector1, vector2),i])\n",
    "    possion = max(cosin)[1]\n",
    "    print(ans[possion])"
   ]
  },
  {
   "cell_type": "code",
   "execution_count": 17,
   "metadata": {},
   "outputs": [
    {
     "name": "stdout",
     "output_type": "stream",
     "text": [
      "thích chứ ông\n"
     ]
    }
   ],
   "source": [
    "chat(\"Bạn thích xem phim không?\")"
   ]
  },
  {
   "cell_type": "markdown",
   "metadata": {},
   "source": [
    "# TF-IDF"
   ]
  },
  {
   "cell_type": "code",
   "execution_count": 178,
   "metadata": {},
   "outputs": [
    {
     "data": {
      "text/html": [
       "<div>\n",
       "<style scoped>\n",
       "    .dataframe tbody tr th:only-of-type {\n",
       "        vertical-align: middle;\n",
       "    }\n",
       "\n",
       "    .dataframe tbody tr th {\n",
       "        vertical-align: top;\n",
       "    }\n",
       "\n",
       "    .dataframe thead th {\n",
       "        text-align: right;\n",
       "    }\n",
       "</style>\n",
       "<table border=\"1\" class=\"dataframe\">\n",
       "  <thead>\n",
       "    <tr style=\"text-align: right;\">\n",
       "      <th></th>\n",
       "      <th>Question</th>\n",
       "      <th>Answer</th>\n",
       "      <th>Tag</th>\n",
       "      <th>TC_Question</th>\n",
       "      <th>Tfidf_Question</th>\n",
       "    </tr>\n",
       "  </thead>\n",
       "  <tbody>\n",
       "    <tr>\n",
       "      <th>0</th>\n",
       "      <td>thích đánh_lộn không ?</td>\n",
       "      <td>ngon nhào vô</td>\n",
       "      <td>0</td>\n",
       "      <td>[thích, đánh_lộn, không]</td>\n",
       "      <td>thích đánh_lộn không</td>\n",
       "    </tr>\n",
       "    <tr>\n",
       "      <th>1</th>\n",
       "      <td>solo yasua không</td>\n",
       "      <td>chấp lun 2 mạng đầu</td>\n",
       "      <td>0</td>\n",
       "      <td>[solo, yasua, không]</td>\n",
       "      <td>solo yasua không</td>\n",
       "    </tr>\n",
       "    <tr>\n",
       "      <th>2</th>\n",
       "      <td>mai đi picnic không ?</td>\n",
       "      <td>mai bận học rồi</td>\n",
       "      <td>0</td>\n",
       "      <td>[mai, đi, picnic, không]</td>\n",
       "      <td>mai đi picnic không</td>\n",
       "    </tr>\n",
       "    <tr>\n",
       "      <th>3</th>\n",
       "      <td>mai học ca mấy vậy ?</td>\n",
       "      <td>mai học ca 3</td>\n",
       "      <td>0</td>\n",
       "      <td>[mai, học, ca, mấy, vậy]</td>\n",
       "      <td>mai học ca mấy vậy</td>\n",
       "    </tr>\n",
       "    <tr>\n",
       "      <th>4</th>\n",
       "      <td>còn tiền không ?</td>\n",
       "      <td>còn chết liền</td>\n",
       "      <td>0</td>\n",
       "      <td>[còn, tiền, không]</td>\n",
       "      <td>còn tiền không</td>\n",
       "    </tr>\n",
       "  </tbody>\n",
       "</table>\n",
       "</div>"
      ],
      "text/plain": [
       "                 Question               Answer  Tag               TC_Question  \\\n",
       "0  thích đánh_lộn không ?         ngon nhào vô    0  [thích, đánh_lộn, không]   \n",
       "1        solo yasua không  chấp lun 2 mạng đầu    0      [solo, yasua, không]   \n",
       "2   mai đi picnic không ?      mai bận học rồi    0  [mai, đi, picnic, không]   \n",
       "3    mai học ca mấy vậy ?         mai học ca 3    0  [mai, học, ca, mấy, vậy]   \n",
       "4        còn tiền không ?        còn chết liền    0        [còn, tiền, không]   \n",
       "\n",
       "         Tfidf_Question  \n",
       "0  thích đánh_lộn không  \n",
       "1      solo yasua không  \n",
       "2   mai đi picnic không  \n",
       "3    mai học ca mấy vậy  \n",
       "4        còn tiền không  "
      ]
     },
     "execution_count": 178,
     "metadata": {},
     "output_type": "execute_result"
    }
   ],
   "source": [
    "from sklearn.preprocessing import LabelEncoder\n",
    "encoder = LabelEncoder()\n",
    "encoded_label = encoder.fit_transform(data.Tag)\n",
    "data.Tag = encoded_label\n",
    "data.head()"
   ]
  },
  {
   "cell_type": "code",
   "execution_count": 290,
   "metadata": {},
   "outputs": [
    {
     "data": {
      "text/plain": [
       "17"
      ]
     },
     "execution_count": 290,
     "metadata": {},
     "output_type": "execute_result"
    }
   ],
   "source": [
    "max(data.Tag)"
   ]
  },
  {
   "cell_type": "code",
   "execution_count": 198,
   "metadata": {},
   "outputs": [],
   "source": [
    "from sklearn.tree import DecisionTreeClassifier\n",
    "from sklearn.model_selection import KFold\n",
    "from sklearn import metrics\n",
    "import time\n",
    "\n",
    "y = data.Tag\n",
    "tree_model = DecisionTreeClassifier()"
   ]
  },
  {
   "cell_type": "code",
   "execution_count": 199,
   "metadata": {},
   "outputs": [
    {
     "name": "stdout",
     "output_type": "stream",
     "text": [
      "(5855, 2465)\n"
     ]
    }
   ],
   "source": [
    "from sklearn.feature_extraction.text import TfidfVectorizer\n",
    "tfidf_vectorizer = TfidfVectorizer(use_idf = True,max_features=3000)\n",
    "tfidf_vectorizer_vectors = tfidf_vectorizer.fit_transform(data.Tfidf_Question)\n",
    "print(tfidf_vectorizer_vectors.shape)"
   ]
  },
  {
   "cell_type": "code",
   "execution_count": 200,
   "metadata": {},
   "outputs": [],
   "source": [
    "kf = KFold(n_splits=500)\n",
    "for train_index, test_index in kf.split(tfidf_vectorizer_vectors):\n",
    "    X_train, X_test = tfidf_vectorizer_vectors[train_index], tfidf_vectorizer_vectors[test_index]\n",
    "    y_train, y_test = y[train_index], y[test_index]\n",
    "    \n",
    "    tree_model.fit(X_train, y_train)"
   ]
  },
  {
   "cell_type": "code",
   "execution_count": 201,
   "metadata": {},
   "outputs": [],
   "source": [
    "y_pred = tree_model.predict(X_test)"
   ]
  },
  {
   "cell_type": "code",
   "execution_count": 202,
   "metadata": {},
   "outputs": [],
   "source": [
    "from sklearn.metrics import classification_report\n",
    "from sklearn.metrics import accuracy_score"
   ]
  },
  {
   "cell_type": "code",
   "execution_count": 203,
   "metadata": {},
   "outputs": [
    {
     "name": "stdout",
     "output_type": "stream",
     "text": [
      "Accuracy score: 0.8181818181818182\n",
      "              precision    recall  f1-score   support\n",
      "\n",
      "          13       0.00      0.00      0.00         0\n",
      "          17       1.00      0.82      0.90        11\n",
      "\n",
      "    accuracy                           0.82        11\n",
      "   macro avg       0.50      0.41      0.45        11\n",
      "weighted avg       1.00      0.82      0.90        11\n",
      "\n"
     ]
    }
   ],
   "source": [
    "print(\"Accuracy score: \" + str(accuracy_score(y_test, y_pred)))\n",
    "print(classification_report(y_test, y_pred))"
   ]
  },
  {
   "cell_type": "code",
   "execution_count": 335,
   "metadata": {},
   "outputs": [],
   "source": [
    "def getAnswerWithTag_Tfidf(input_sent):\n",
    "    #clean Input_sent\n",
    "    input_sent = ViTokenizer.tokenize(input_sent).lower().strip()\n",
    "    input_sent = clean_one_sentence(nltk.word_tokenize(input_sent))\n",
    "    input_sent = ' '.join(input_sent)\n",
    "    \n",
    "    #use tfidf to predict tag of input_sent\n",
    "    vector_input =tfidf_vectorizer.transform([input_sent])\n",
    "    \n",
    "    #predict tag of input\n",
    "    tag_code = tree_model.predict(vector_input)\n",
    "    \n",
    "    #get data include the predict tag\n",
    "    tag_ques = text_classify_data[text_classify_data.Tag == tag_code[0]]\n",
    "    tag_vectors = tfidf_vectorizer.transform(tag_ques[\"Tfidf_Question\"])\n",
    "    \n",
    "    ans_update = []\n",
    "    for item in tag_ques.Answer:\n",
    "        ans_update.append(item)\n",
    "    \n",
    "    vect = TfidfVectorizer()\n",
    "    \n",
    "    copus = []\n",
    "    for item in tag_ques.Tfidf_Question:\n",
    "        copus.append(item)\n",
    "#     print(len(copus))\n",
    "    #include input_sent into the copus to find the similar sentence\n",
    "    copus.append(input_sent)\n",
    "#     print(len(copus))\n",
    "    tfidf = vect.fit_transform(copus)\n",
    "    arr =(tfidf * tfidf.T).toarray()\n",
    "    \n",
    "    np.fill_diagonal(arr, np.nan)\n",
    "    \n",
    "    input_idx = copus.index(input_sent)\n",
    "    result_idx = np.nanargmax(arr[input_idx])\n",
    "    print(ans_update[result_idx].replace(\"_\",\" \"))"
   ]
  },
  {
   "cell_type": "code",
   "execution_count": 336,
   "metadata": {},
   "outputs": [
    {
     "name": "stdout",
     "output_type": "stream",
     "text": [
      "thỉnh thoảng mình vẫn thích\n"
     ]
    }
   ],
   "source": [
    "getAnswerWithTag_Tfidf(\"bạn có thích xem phim hay không\")"
   ]
  },
  {
   "cell_type": "code",
   "execution_count": 313,
   "metadata": {},
   "outputs": [],
   "source": [
    "def getAnswerWithoutTag_Tfidf(input_sent):\n",
    "    #clean Input_sent\n",
    "    input_sent = ViTokenizer.tokenize(input_sent).lower().strip()\n",
    "    input_sent = clean_one_sentence(nltk.word_tokenize(input_sent))\n",
    "    input_sent = ' '.join(input_sent)\n",
    "    \n",
    "    #use tfidf to predict tag of input_sent\n",
    "    vector_input =tfidf_vectorizer.transform([input_sent])\n",
    "    \n",
    "    #predict tag of input\n",
    "    tag_code = tree_model.predict(vector_input)\n",
    "    \n",
    "    #get data include the predict tag\n",
    "#     tag_ques = text_classify_data[text_classify_data.Tag == tag_code[0]]\n",
    "    tag_vectors = tfidf_vectorizer.transform(data.Tfidf_Question)\n",
    "    \n",
    "#     ans_update = []\n",
    "#     for item in tag_ques.Answer:\n",
    "#         temp.append(item)\n",
    "    \n",
    "    vect = TfidfVectorizer()\n",
    "    \n",
    "    copus = []\n",
    "    for item in data.Tfidf_Question:\n",
    "        copus.append(item)\n",
    "\n",
    "    #include input_sent into the copus to find the similar sentence\n",
    "    copus.append(input_sent)\n",
    "\n",
    "    tfidf = vect.fit_transform(copus)\n",
    "    arr =(tfidf * tfidf.T).toarray()\n",
    "    \n",
    "    np.fill_diagonal(arr, np.nan)\n",
    "    \n",
    "    input_idx = copus.index(input_sent)\n",
    "    result_idx = np.nanargmax(arr[input_idx])\n",
    "    print(ans[result_idx].replace(\"_\",\" \"))"
   ]
  },
  {
   "cell_type": "code",
   "execution_count": 314,
   "metadata": {},
   "outputs": [
    {
     "name": "stdout",
     "output_type": "stream",
     "text": [
      "chắc chắn là có rồi\n"
     ]
    }
   ],
   "source": [
    "getAnswerWithoutTag_Tfidf(\"bạn có thích xem phim hay không???@!£!@£@!£\")"
   ]
  },
  {
   "cell_type": "markdown",
   "metadata": {},
   "source": [
    "# Text classification"
   ]
  },
  {
   "cell_type": "code",
   "execution_count": 339,
   "metadata": {},
   "outputs": [],
   "source": [
    "text_classify_data = data"
   ]
  },
  {
   "cell_type": "code",
   "execution_count": 340,
   "metadata": {},
   "outputs": [],
   "source": [
    "from sklearn.preprocessing import LabelEncoder\n",
    "\n",
    "encoder = LabelEncoder()\n",
    "encoded_label = encoder.fit_transform(text_classify_data.Tag)\n",
    "text_classify_data.Tag = encoded_label"
   ]
  },
  {
   "cell_type": "code",
   "execution_count": 351,
   "metadata": {},
   "outputs": [],
   "source": [
    "from sklearn.model_selection import train_test_split\n",
    "\n",
    "X_train, X_test, y_train, y_test =  train_test_split(X, data.Tag, test_size=0.2, random_state=0)"
   ]
  },
  {
   "cell_type": "code",
   "execution_count": 349,
   "metadata": {},
   "outputs": [
    {
     "data": {
      "text/plain": [
       "DecisionTreeClassifier()"
      ]
     },
     "execution_count": 349,
     "metadata": {},
     "output_type": "execute_result"
    }
   ],
   "source": [
    "from sklearn.tree import DecisionTreeClassifier\n",
    "\n",
    "clf_decision_word2vec = DecisionTreeClassifier()\n",
    "clf_decision_word2vec.fit(X_train, y_train)"
   ]
  },
  {
   "cell_type": "code",
   "execution_count": 356,
   "metadata": {},
   "outputs": [
    {
     "name": "stdout",
     "output_type": "stream",
     "text": [
      "              precision    recall  f1-score   support\n",
      "\n",
      "           0       0.34      0.34      0.34       124\n",
      "           1       0.25      0.50      0.33        16\n",
      "           2       0.37      0.28      0.32        47\n",
      "           3       0.34      0.37      0.36        75\n",
      "           4       0.28      0.31      0.29        51\n",
      "           5       0.36      0.46      0.40        48\n",
      "           6       0.41      0.40      0.40        86\n",
      "           7       0.33      0.46      0.39        28\n",
      "           8       0.47      0.40      0.43        96\n",
      "           9       0.17      0.10      0.12        40\n",
      "          10       0.21      0.26      0.23        73\n",
      "          11       0.55      0.50      0.53        52\n",
      "          12       0.34      0.23      0.27        61\n",
      "          13       0.55      0.64      0.59       151\n",
      "          14       0.30      0.24      0.26        55\n",
      "          15       0.30      0.29      0.30        45\n",
      "          16       0.29      0.24      0.26        38\n",
      "          17       0.35      0.34      0.35        85\n",
      "\n",
      "    accuracy                           0.37      1171\n",
      "   macro avg       0.35      0.35      0.34      1171\n",
      "weighted avg       0.37      0.37      0.37      1171\n",
      "\n"
     ]
    }
   ],
   "source": [
    "from sklearn.metrics import classification_report\n",
    "from sklearn.metrics import accuracy_score\n",
    "\n",
    "test_predictions_word2vec = clf_decision_word2vec.predict(X_test)\n",
    "# print(\"Accuracy score: \" + str(accuracy_score(y_test, test_predictions_word2vec)))\n",
    "print(classification_report(y_test, test_predictions_word2vec))"
   ]
  },
  {
   "cell_type": "code",
   "execution_count": 353,
   "metadata": {},
   "outputs": [
    {
     "data": {
      "text/plain": [
       "RandomForestClassifier(n_estimators=1000, random_state=0)"
      ]
     },
     "execution_count": 353,
     "metadata": {},
     "output_type": "execute_result"
    }
   ],
   "source": [
    "from sklearn.ensemble import RandomForestClassifier\n",
    "\n",
    "RFC_model = RandomForestClassifier(n_estimators=1000, random_state=0)\n",
    "RFC_model.fit(X_train, y_train)"
   ]
  },
  {
   "cell_type": "code",
   "execution_count": 354,
   "metadata": {},
   "outputs": [],
   "source": [
    "y_pred = RFC_model.predict(X_test)"
   ]
  },
  {
   "cell_type": "code",
   "execution_count": 355,
   "metadata": {},
   "outputs": [
    {
     "name": "stdout",
     "output_type": "stream",
     "text": [
      "              precision    recall  f1-score   support\n",
      "\n",
      "           0       0.33      0.52      0.41       124\n",
      "           1       0.80      0.50      0.62        16\n",
      "           2       0.47      0.40      0.44        47\n",
      "           3       0.37      0.48      0.42        75\n",
      "           4       0.51      0.49      0.50        51\n",
      "           5       0.51      0.46      0.48        48\n",
      "           6       0.68      0.42      0.52        86\n",
      "           7       0.65      0.46      0.54        28\n",
      "           8       0.57      0.45      0.50        96\n",
      "           9       0.27      0.10      0.15        40\n",
      "          10       0.33      0.66      0.44        73\n",
      "          11       0.72      0.60      0.65        52\n",
      "          12       0.75      0.34      0.47        61\n",
      "          13       0.59      0.70      0.64       151\n",
      "          14       0.33      0.25      0.29        55\n",
      "          15       0.40      0.27      0.32        45\n",
      "          16       0.25      0.13      0.17        38\n",
      "          17       0.48      0.47      0.48        85\n",
      "\n",
      "    accuracy                           0.47      1171\n",
      "   macro avg       0.50      0.43      0.45      1171\n",
      "weighted avg       0.49      0.47      0.46      1171\n",
      "\n"
     ]
    }
   ],
   "source": [
    "print(classification_report(y_test,y_pred))"
   ]
  },
  {
   "cell_type": "code",
   "execution_count": 359,
   "metadata": {},
   "outputs": [],
   "source": [
    "from scipy import spatial\n",
    "\n",
    "#Find the nearest vector to input question\n",
    "def get_answer(input_sent):\n",
    "    # Clean input_sent\n",
    "    input_sent = ViTokenizer.tokenize(input_sent).lower().strip()\n",
    "    input_sent = clean_one_sentence(nltk.word_tokenize(input_sent))\n",
    "    \n",
    "    #Turn input sentence into vector\n",
    "    vector_input = convert2vec(input_sent)\n",
    "    \n",
    "    #Predict tag of input sentence\n",
    "    tag_code = clf_decision_word2vec.predict([vector_input])\n",
    "#     print(\"Tag code: \" + str(tag_code[0]))\n",
    "    tag_ques = text_classify_data[text_classify_data.Tag == tag_code[0]]\n",
    "    \n",
    "    #Find the nearest question in train data | cosine similarity\n",
    "    cosin_lst = []\n",
    "    for idx in range(len(tag_ques)):\n",
    "        cosin_lst.append([1 - spatial.distance.cosine(vector_input, sent2vec(tag_ques[\"TC_Question\"])[idx]),idx])\n",
    "    possion = max(cosin_lst)[1]\n",
    "    print(ans[possion].replace(\"_\",\" \"))"
   ]
  },
  {
   "cell_type": "code",
   "execution_count": 360,
   "metadata": {},
   "outputs": [
    {
     "name": "stdout",
     "output_type": "stream",
     "text": [
      "mình rất kén chọn , con gái dễ thương 1 mét 7 , nhà giàu là được\n"
     ]
    }
   ],
   "source": [
    "get_answer(\"solo yasou không\")"
   ]
  },
  {
   "cell_type": "markdown",
   "metadata": {},
   "source": [
    "# Test TFIDF"
   ]
  }
 ],
 "metadata": {
  "kernelspec": {
   "display_name": "Python 3",
   "language": "python",
   "name": "python3"
  },
  "language_info": {
   "codemirror_mode": {
    "name": "ipython",
    "version": 3
   },
   "file_extension": ".py",
   "mimetype": "text/x-python",
   "name": "python",
   "nbconvert_exporter": "python",
   "pygments_lexer": "ipython3",
   "version": "3.8.5"
  }
 },
 "nbformat": 4,
 "nbformat_minor": 4
}
