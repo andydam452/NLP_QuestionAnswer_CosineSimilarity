{
 "cells": [
  {
   "cell_type": "code",
   "execution_count": 1,
   "metadata": {},
   "outputs": [],
   "source": [
    "import pandas as pd\n",
    "from pyvi import ViTokenizer, ViPosTagger\n",
    "import nltk\n",
    "import numpy as np\n",
    "import warnings\n",
    "import time\n",
    "warnings.filterwarnings('ignore')"
   ]
  },
  {
   "cell_type": "code",
   "execution_count": 2,
   "metadata": {},
   "outputs": [
    {
     "name": "stdout",
     "output_type": "stream",
     "text": [
      "18\n"
     ]
    }
   ],
   "source": [
    "# filename = \"./dataset/bạn bè.txt\"\n",
    "# df = pd.read_fwf(filename,header = None, encoding=\"utf-8\")\n",
    "filename =[\"bạn bè.txt\",\"các câu hỏi phức tạp.txt\",\"du lịch.txt\",\"gia đình.txt\",\"giải trí.txt\",\n",
    "           \"học tập.txt\",\"nghề nghiệp.txt\",\"nghỉ lễ.txt\",\"người yêu.txt\",\"robot.txt\",\"shoping.txt\",\n",
    "           \"sở thích.txt\",\"tdtu.txt\",\"thông tin cá nhân.txt\",\"trò chuyện về đi ăn.txt\",\"tán gẫu.txt\",\"đất nước.txt\",\"địa chỉ.txt\"]\n",
    "# df = pd.read_fwf(filename,header = None)\n",
    "# df.head()\n",
    "print(len(filename))"
   ]
  },
  {
   "cell_type": "code",
   "execution_count": 3,
   "metadata": {},
   "outputs": [],
   "source": [
    "temp_ques = []\n",
    "temp_ans = []\n",
    "tag = []\n",
    "for k in range(len(filename)):\n",
    "    with open(filename[k]) as f:\n",
    "        lines = f.readlines()\n",
    "    for i in range(len(lines)):\n",
    "        if lines[i].startswith('__eou__'):\n",
    "            continue\n",
    "        else:\n",
    "            part = lines[i].strip('__eou__').split('__eou__')\n",
    "            temp_ques.append(ViTokenizer.tokenize(part[0].lower().strip()))\n",
    "            temp_ans.append(ViTokenizer.tokenize(part[1].lower().strip()))\n",
    "            tag.append(filename[k].split(\".\")[0])"
   ]
  },
  {
   "cell_type": "code",
   "execution_count": 4,
   "metadata": {},
   "outputs": [
    {
     "data": {
      "text/html": [
       "<div>\n",
       "<style scoped>\n",
       "    .dataframe tbody tr th:only-of-type {\n",
       "        vertical-align: middle;\n",
       "    }\n",
       "\n",
       "    .dataframe tbody tr th {\n",
       "        vertical-align: top;\n",
       "    }\n",
       "\n",
       "    .dataframe thead th {\n",
       "        text-align: right;\n",
       "    }\n",
       "</style>\n",
       "<table border=\"1\" class=\"dataframe\">\n",
       "  <thead>\n",
       "    <tr style=\"text-align: right;\">\n",
       "      <th></th>\n",
       "      <th>Question</th>\n",
       "      <th>Answer</th>\n",
       "      <th>Tag</th>\n",
       "    </tr>\n",
       "  </thead>\n",
       "  <tbody>\n",
       "    <tr>\n",
       "      <th>0</th>\n",
       "      <td>thích đánh_lộn không ?</td>\n",
       "      <td>ngon nhào vô</td>\n",
       "      <td>bạn bè</td>\n",
       "    </tr>\n",
       "    <tr>\n",
       "      <th>1</th>\n",
       "      <td>solo yasua không</td>\n",
       "      <td>chấp lun 2 mạng đầu</td>\n",
       "      <td>bạn bè</td>\n",
       "    </tr>\n",
       "    <tr>\n",
       "      <th>2</th>\n",
       "      <td>mai đi picnic không ?</td>\n",
       "      <td>mai bận học rồi</td>\n",
       "      <td>bạn bè</td>\n",
       "    </tr>\n",
       "    <tr>\n",
       "      <th>3</th>\n",
       "      <td>mai học ca mấy vậy ?</td>\n",
       "      <td>mai học ca 3</td>\n",
       "      <td>bạn bè</td>\n",
       "    </tr>\n",
       "    <tr>\n",
       "      <th>4</th>\n",
       "      <td>còn tiền không ?</td>\n",
       "      <td>còn chết liền</td>\n",
       "      <td>bạn bè</td>\n",
       "    </tr>\n",
       "  </tbody>\n",
       "</table>\n",
       "</div>"
      ],
      "text/plain": [
       "                 Question               Answer     Tag\n",
       "0  thích đánh_lộn không ?         ngon nhào vô  bạn bè\n",
       "1        solo yasua không  chấp lun 2 mạng đầu  bạn bè\n",
       "2   mai đi picnic không ?      mai bận học rồi  bạn bè\n",
       "3    mai học ca mấy vậy ?         mai học ca 3  bạn bè\n",
       "4        còn tiền không ?        còn chết liền  bạn bè"
      ]
     },
     "execution_count": 4,
     "metadata": {},
     "output_type": "execute_result"
    }
   ],
   "source": [
    "data = pd.DataFrame({'Question':temp_ques,'Answer':temp_ans,'Tag':tag})\n",
    "data.head()"
   ]
  },
  {
   "cell_type": "code",
   "execution_count": 5,
   "metadata": {},
   "outputs": [],
   "source": [
    "ques = np.array(data[\"Question\"])\n",
    "ans = np.array(data[\"Answer\"])\n",
    "ques_sentences=[nltk.word_tokenize(sent) for sent in ques]\n",
    "ans_sentences=[nltk.word_tokenize(sent) for sent in ans] "
   ]
  },
  {
   "cell_type": "code",
   "execution_count": 6,
   "metadata": {},
   "outputs": [],
   "source": [
    "# stop_word ={'bị','bởi','cả','các', 'cái','cần','càng','chỉ','chiếc','cho','chứ','chưa',\n",
    "#             'chuyện','có','có_thể','cứ','của','cùng','cũng','đã','đang','đây','để','đến_nỗi',\n",
    "#             'đều','điều','do','đó','được','dưới','gì','khi','không','là','lại','lên','lúc','mà',\n",
    "#             'mỗi','một_cách','này','nên','nếu','ngay','nhiều','như','nhưng','những','nơi','nữa',\n",
    "#             'phải','qua','ra','rằng','rằng','rất','rất','rồi','sau','sẽ','so','sự','tại','theo',\n",
    "#             'thì','trên','trước','từ','từng','và','vẫn','vào','vậy','vì','việc','với','vừa'}"
   ]
  },
  {
   "cell_type": "code",
   "execution_count": 7,
   "metadata": {},
   "outputs": [],
   "source": [
    "def clean_sentences(sentences):\n",
    "    Punc = {'.', ',', '...', '-', '“', '”', ':', '(', ')', '\"', '!', '&', ';', '?', '*', ']', '>', '…', '’',\"``\",\"''\"}\n",
    "    clean_sent = []\n",
    "    for sent in sentences:\n",
    "        temp =[]\n",
    "        for item in sent:\n",
    "            if item in Punc:\n",
    "                continue\n",
    "            elif(item.isdigit()):\n",
    "                temp.append(\"Num\")\n",
    "            else:\n",
    "                temp.append(item)\n",
    "        clean_sent.append(temp)\n",
    "    return clean_sent"
   ]
  },
  {
   "cell_type": "code",
   "execution_count": 8,
   "metadata": {},
   "outputs": [],
   "source": [
    "def clean_one_sentence(sentences):\n",
    "    Punc = {'.', ',', '...', '-', '“', '”', ':', '(', ')', '\"', '!', '&', ';', '?', '*', ']', '>', '…', '’',\"``\",\"''\"}\n",
    "    clean_sent = []\n",
    "    for sent in sentences:\n",
    "        if sent in Punc :\n",
    "            continue\n",
    "        elif(sent.isdigit()):\n",
    "            clean_sent.append(\"Num\")\n",
    "        else:\n",
    "            clean_sent.append(sent)\n",
    "    return clean_sent"
   ]
  },
  {
   "cell_type": "code",
   "execution_count": 9,
   "metadata": {},
   "outputs": [],
   "source": [
    "clean_ques = clean_sentences(ques_sentences)\n",
    "clean_ans = clean_sentences(ans_sentences)\n",
    "\n",
    "# print(len(clean_ques))\n",
    "# print(len(clean_ans))"
   ]
  },
  {
   "cell_type": "code",
   "execution_count": 10,
   "metadata": {},
   "outputs": [
    {
     "data": {
      "text/html": [
       "<div>\n",
       "<style scoped>\n",
       "    .dataframe tbody tr th:only-of-type {\n",
       "        vertical-align: middle;\n",
       "    }\n",
       "\n",
       "    .dataframe tbody tr th {\n",
       "        vertical-align: top;\n",
       "    }\n",
       "\n",
       "    .dataframe thead th {\n",
       "        text-align: right;\n",
       "    }\n",
       "</style>\n",
       "<table border=\"1\" class=\"dataframe\">\n",
       "  <thead>\n",
       "    <tr style=\"text-align: right;\">\n",
       "      <th></th>\n",
       "      <th>Question</th>\n",
       "      <th>Answer</th>\n",
       "      <th>Tag</th>\n",
       "      <th>TC_Question</th>\n",
       "      <th>Tfidf_Question</th>\n",
       "    </tr>\n",
       "  </thead>\n",
       "  <tbody>\n",
       "    <tr>\n",
       "      <th>0</th>\n",
       "      <td>thích đánh_lộn không ?</td>\n",
       "      <td>ngon nhào vô</td>\n",
       "      <td>bạn bè</td>\n",
       "      <td>[thích, đánh_lộn, không]</td>\n",
       "      <td>thích đánh_lộn không</td>\n",
       "    </tr>\n",
       "    <tr>\n",
       "      <th>1</th>\n",
       "      <td>solo yasua không</td>\n",
       "      <td>chấp lun 2 mạng đầu</td>\n",
       "      <td>bạn bè</td>\n",
       "      <td>[solo, yasua, không]</td>\n",
       "      <td>solo yasua không</td>\n",
       "    </tr>\n",
       "    <tr>\n",
       "      <th>2</th>\n",
       "      <td>mai đi picnic không ?</td>\n",
       "      <td>mai bận học rồi</td>\n",
       "      <td>bạn bè</td>\n",
       "      <td>[mai, đi, picnic, không]</td>\n",
       "      <td>mai đi picnic không</td>\n",
       "    </tr>\n",
       "    <tr>\n",
       "      <th>3</th>\n",
       "      <td>mai học ca mấy vậy ?</td>\n",
       "      <td>mai học ca 3</td>\n",
       "      <td>bạn bè</td>\n",
       "      <td>[mai, học, ca, mấy, vậy]</td>\n",
       "      <td>mai học ca mấy vậy</td>\n",
       "    </tr>\n",
       "    <tr>\n",
       "      <th>4</th>\n",
       "      <td>còn tiền không ?</td>\n",
       "      <td>còn chết liền</td>\n",
       "      <td>bạn bè</td>\n",
       "      <td>[còn, tiền, không]</td>\n",
       "      <td>còn tiền không</td>\n",
       "    </tr>\n",
       "  </tbody>\n",
       "</table>\n",
       "</div>"
      ],
      "text/plain": [
       "                 Question               Answer     Tag  \\\n",
       "0  thích đánh_lộn không ?         ngon nhào vô  bạn bè   \n",
       "1        solo yasua không  chấp lun 2 mạng đầu  bạn bè   \n",
       "2   mai đi picnic không ?      mai bận học rồi  bạn bè   \n",
       "3    mai học ca mấy vậy ?         mai học ca 3  bạn bè   \n",
       "4        còn tiền không ?        còn chết liền  bạn bè   \n",
       "\n",
       "                TC_Question        Tfidf_Question  \n",
       "0  [thích, đánh_lộn, không]  thích đánh_lộn không  \n",
       "1      [solo, yasua, không]      solo yasua không  \n",
       "2  [mai, đi, picnic, không]   mai đi picnic không  \n",
       "3  [mai, học, ca, mấy, vậy]    mai học ca mấy vậy  \n",
       "4        [còn, tiền, không]        còn tiền không  "
      ]
     },
     "execution_count": 10,
     "metadata": {},
     "output_type": "execute_result"
    }
   ],
   "source": [
    "#tfidf clean question\n",
    "clean_question = []\n",
    "for i in range(len(clean_ques)):\n",
    "    tmp = ' '.join(clean_ques[i])\n",
    "    clean_question.append(tmp)\n",
    "# print(len(clean_question))\n",
    "data.insert(3,\"TC_Question\",clean_ques)\n",
    "data.insert(4,\"Tfidf_Question\",clean_question)\n",
    "data.head()"
   ]
  },
  {
   "cell_type": "markdown",
   "metadata": {},
   "source": [
    "# Counter"
   ]
  },
  {
   "cell_type": "code",
   "execution_count": 11,
   "metadata": {},
   "outputs": [],
   "source": [
    "import math\n",
    "from collections import Counter"
   ]
  },
  {
   "cell_type": "code",
   "execution_count": 12,
   "metadata": {},
   "outputs": [],
   "source": [
    "def get_cosine(vec1, vec2):\n",
    "    intersection = set(vec1.keys()) & set(vec2.keys())\n",
    "    numerator = sum([vec1[x] * vec2[x] for x in intersection])\n",
    "\n",
    "    sum1 = sum([vec1[x]**2 for x in vec1.keys()])\n",
    "    sum2 = sum([vec2[x]**2 for x in vec2.keys()])\n",
    "    denominator = math.sqrt(sum1) * math.sqrt(sum2)\n",
    "\n",
    "    if not denominator:\n",
    "        return 0.0\n",
    "    else:\n",
    "        return float(numerator) / denominator"
   ]
  },
  {
   "cell_type": "code",
   "execution_count": 13,
   "metadata": {},
   "outputs": [],
   "source": [
    "def chat(input_):\n",
    "    start_time = time.time()\n",
    "    x = ViTokenizer.tokenize(input_).lower().strip()\n",
    "    text1 = clean_one_sentence(nltk.word_tokenize(x))\n",
    "    vector1 = Counter(text1)\n",
    "    cosin = []\n",
    "    # temp = []\n",
    "\n",
    "    for i in range(len(clean_ques)):\n",
    "        text2 = clean_ques[i]\n",
    "        vector2 = Counter(text2)\n",
    "        cosin.append([get_cosine(vector1, vector2),i])\n",
    "    possion = max(cosin)[1]\n",
    "    print(ans[possion])\n",
    "    end_time = time.time()\n",
    "    return end_time - start_time"
   ]
  },
  {
   "cell_type": "code",
   "execution_count": 14,
   "metadata": {},
   "outputs": [
    {
     "name": "stdout",
     "output_type": "stream",
     "text": [
      "thích chứ ông\n",
      "0.12650108337402344\n"
     ]
    }
   ],
   "source": [
    "Counter_time = chat(\"Bạn thích xem phim không?\")\n",
    "print(Counter_time)"
   ]
  },
  {
   "cell_type": "markdown",
   "metadata": {},
   "source": [
    "# TF-IDF"
   ]
  },
  {
   "cell_type": "code",
   "execution_count": 15,
   "metadata": {},
   "outputs": [
    {
     "data": {
      "text/html": [
       "<div>\n",
       "<style scoped>\n",
       "    .dataframe tbody tr th:only-of-type {\n",
       "        vertical-align: middle;\n",
       "    }\n",
       "\n",
       "    .dataframe tbody tr th {\n",
       "        vertical-align: top;\n",
       "    }\n",
       "\n",
       "    .dataframe thead th {\n",
       "        text-align: right;\n",
       "    }\n",
       "</style>\n",
       "<table border=\"1\" class=\"dataframe\">\n",
       "  <thead>\n",
       "    <tr style=\"text-align: right;\">\n",
       "      <th></th>\n",
       "      <th>Question</th>\n",
       "      <th>Answer</th>\n",
       "      <th>Tag</th>\n",
       "      <th>TC_Question</th>\n",
       "      <th>Tfidf_Question</th>\n",
       "    </tr>\n",
       "  </thead>\n",
       "  <tbody>\n",
       "    <tr>\n",
       "      <th>0</th>\n",
       "      <td>thích đánh_lộn không ?</td>\n",
       "      <td>ngon nhào vô</td>\n",
       "      <td>0</td>\n",
       "      <td>[thích, đánh_lộn, không]</td>\n",
       "      <td>thích đánh_lộn không</td>\n",
       "    </tr>\n",
       "    <tr>\n",
       "      <th>1</th>\n",
       "      <td>solo yasua không</td>\n",
       "      <td>chấp lun 2 mạng đầu</td>\n",
       "      <td>0</td>\n",
       "      <td>[solo, yasua, không]</td>\n",
       "      <td>solo yasua không</td>\n",
       "    </tr>\n",
       "    <tr>\n",
       "      <th>2</th>\n",
       "      <td>mai đi picnic không ?</td>\n",
       "      <td>mai bận học rồi</td>\n",
       "      <td>0</td>\n",
       "      <td>[mai, đi, picnic, không]</td>\n",
       "      <td>mai đi picnic không</td>\n",
       "    </tr>\n",
       "    <tr>\n",
       "      <th>3</th>\n",
       "      <td>mai học ca mấy vậy ?</td>\n",
       "      <td>mai học ca 3</td>\n",
       "      <td>0</td>\n",
       "      <td>[mai, học, ca, mấy, vậy]</td>\n",
       "      <td>mai học ca mấy vậy</td>\n",
       "    </tr>\n",
       "    <tr>\n",
       "      <th>4</th>\n",
       "      <td>còn tiền không ?</td>\n",
       "      <td>còn chết liền</td>\n",
       "      <td>0</td>\n",
       "      <td>[còn, tiền, không]</td>\n",
       "      <td>còn tiền không</td>\n",
       "    </tr>\n",
       "  </tbody>\n",
       "</table>\n",
       "</div>"
      ],
      "text/plain": [
       "                 Question               Answer  Tag               TC_Question  \\\n",
       "0  thích đánh_lộn không ?         ngon nhào vô    0  [thích, đánh_lộn, không]   \n",
       "1        solo yasua không  chấp lun 2 mạng đầu    0      [solo, yasua, không]   \n",
       "2   mai đi picnic không ?      mai bận học rồi    0  [mai, đi, picnic, không]   \n",
       "3    mai học ca mấy vậy ?         mai học ca 3    0  [mai, học, ca, mấy, vậy]   \n",
       "4        còn tiền không ?        còn chết liền    0        [còn, tiền, không]   \n",
       "\n",
       "         Tfidf_Question  \n",
       "0  thích đánh_lộn không  \n",
       "1      solo yasua không  \n",
       "2   mai đi picnic không  \n",
       "3    mai học ca mấy vậy  \n",
       "4        còn tiền không  "
      ]
     },
     "execution_count": 15,
     "metadata": {},
     "output_type": "execute_result"
    }
   ],
   "source": [
    "from sklearn.preprocessing import LabelEncoder\n",
    "encoder = LabelEncoder()\n",
    "encoded_label = encoder.fit_transform(data.Tag)\n",
    "data.Tag = encoded_label\n",
    "data.head()"
   ]
  },
  {
   "cell_type": "code",
   "execution_count": 16,
   "metadata": {},
   "outputs": [
    {
     "data": {
      "text/plain": [
       "17"
      ]
     },
     "execution_count": 16,
     "metadata": {},
     "output_type": "execute_result"
    }
   ],
   "source": [
    "max(data.Tag)"
   ]
  },
  {
   "cell_type": "code",
   "execution_count": 17,
   "metadata": {},
   "outputs": [],
   "source": [
    "from sklearn.tree import DecisionTreeClassifier\n",
    "from sklearn.model_selection import KFold\n",
    "from sklearn import metrics\n",
    "import time\n",
    "\n",
    "y = data.Tag\n",
    "tree_model = DecisionTreeClassifier()"
   ]
  },
  {
   "cell_type": "code",
   "execution_count": 18,
   "metadata": {},
   "outputs": [
    {
     "name": "stdout",
     "output_type": "stream",
     "text": [
      "(5855, 2465)\n"
     ]
    }
   ],
   "source": [
    "from sklearn.feature_extraction.text import TfidfVectorizer\n",
    "tfidf_vectorizer = TfidfVectorizer(use_idf = True,max_features=3000)\n",
    "tfidf_vectorizer_vectors = tfidf_vectorizer.fit_transform(data.Tfidf_Question)\n",
    "print(tfidf_vectorizer_vectors.shape)"
   ]
  },
  {
   "cell_type": "code",
   "execution_count": 56,
   "metadata": {},
   "outputs": [],
   "source": [
    "kf = KFold(n_splits=500)\n",
    "for train_index, test_index in kf.split(tfidf_vectorizer_vectors):\n",
    "    X_train, X_test = tfidf_vectorizer_vectors[train_index], tfidf_vectorizer_vectors[test_index]\n",
    "    y_train, y_test = y[train_index], y[test_index]\n",
    "    \n",
    "    tree_model.fit(X_train, y_train)"
   ]
  },
  {
   "cell_type": "code",
   "execution_count": 57,
   "metadata": {},
   "outputs": [],
   "source": [
    "y_pred = tree_model.predict(X_test)"
   ]
  },
  {
   "cell_type": "code",
   "execution_count": 58,
   "metadata": {},
   "outputs": [],
   "source": [
    "from sklearn.metrics import classification_report\n",
    "from sklearn.metrics import accuracy_score"
   ]
  },
  {
   "cell_type": "code",
   "execution_count": 59,
   "metadata": {},
   "outputs": [
    {
     "name": "stdout",
     "output_type": "stream",
     "text": [
      "              precision    recall  f1-score   support\n",
      "\n",
      "           0       0.00      0.00      0.00         0\n",
      "          12       0.00      0.00      0.00         0\n",
      "          13       0.00      0.00      0.00         0\n",
      "          17       1.00      0.73      0.84        11\n",
      "\n",
      "    accuracy                           0.73        11\n",
      "   macro avg       0.25      0.18      0.21        11\n",
      "weighted avg       1.00      0.73      0.84        11\n",
      "\n"
     ]
    }
   ],
   "source": [
    "TF_IDF = accuracy_score(y_test, y_pred)\n",
    "print(classification_report(y_test, y_pred))"
   ]
  },
  {
   "cell_type": "code",
   "execution_count": 23,
   "metadata": {},
   "outputs": [],
   "source": [
    "text_classify_data = data"
   ]
  },
  {
   "cell_type": "code",
   "execution_count": 24,
   "metadata": {},
   "outputs": [],
   "source": [
    "def getAnswerWithTag_Tfidf(input_sent):\n",
    "    start_time = time.time()\n",
    "    #clean Input_sent\n",
    "    input_sent = ViTokenizer.tokenize(input_sent).lower().strip()\n",
    "    input_sent = clean_one_sentence(nltk.word_tokenize(input_sent))\n",
    "    input_sent = ' '.join(input_sent)\n",
    "    \n",
    "    #use tfidf to predict tag of input_sent\n",
    "    vector_input =tfidf_vectorizer.transform([input_sent])\n",
    "    \n",
    "    #predict tag of input\n",
    "    tag_code = tree_model.predict(vector_input)\n",
    "    \n",
    "    #get data include the predict tag\n",
    "    tag_ques = text_classify_data[text_classify_data.Tag == tag_code[0]]\n",
    "    tag_vectors = tfidf_vectorizer.transform(tag_ques[\"Tfidf_Question\"])\n",
    "    \n",
    "    ans_update = []\n",
    "    for item in tag_ques.Answer:\n",
    "        ans_update.append(item)\n",
    "    \n",
    "    vect = TfidfVectorizer()\n",
    "    \n",
    "    copus = []\n",
    "    for item in tag_ques.Tfidf_Question:\n",
    "        copus.append(item)\n",
    "#     print(len(copus))\n",
    "    #include input_sent into the copus to find the similar sentence\n",
    "    copus.append(input_sent)\n",
    "#     print(len(copus))\n",
    "    tfidf = vect.fit_transform(copus)\n",
    "    arr =(tfidf * tfidf.T).toarray()\n",
    "    \n",
    "    np.fill_diagonal(arr, np.nan)\n",
    "    \n",
    "    input_idx = copus.index(input_sent)\n",
    "    result_idx = np.nanargmax(arr[input_idx])\n",
    "    print(ans_update[result_idx].replace(\"_\",\" \"))\n",
    "    end_time = time.time()\n",
    "    return end_time - start_time"
   ]
  },
  {
   "cell_type": "code",
   "execution_count": 25,
   "metadata": {},
   "outputs": [
    {
     "name": "stdout",
     "output_type": "stream",
     "text": [
      "mình rất thích xem phim\n",
      "0.3547999858856201\n"
     ]
    }
   ],
   "source": [
    "Tag_Tfidf_time = getAnswerWithTag_Tfidf(\"bạn có thích xem phim hay không\")\n",
    "print(Tag_Tfidf_time)"
   ]
  },
  {
   "cell_type": "code",
   "execution_count": 26,
   "metadata": {},
   "outputs": [],
   "source": [
    "def getAnswerWithoutTag_Tfidf(input_sent):\n",
    "    start_time = time.time()\n",
    "    #clean Input_sent\n",
    "    input_sent = ViTokenizer.tokenize(input_sent).lower().strip()\n",
    "    input_sent = clean_one_sentence(nltk.word_tokenize(input_sent))\n",
    "    input_sent = ' '.join(input_sent)\n",
    "    \n",
    "    #use tfidf to predict tag of input_sent\n",
    "    vector_input =tfidf_vectorizer.transform([input_sent])\n",
    "    \n",
    "    #predict tag of input\n",
    "    tag_code = tree_model.predict(vector_input)\n",
    "    \n",
    "    #get data include the predict tag\n",
    "#     tag_ques = text_classify_data[text_classify_data.Tag == tag_code[0]]\n",
    "    tag_vectors = tfidf_vectorizer.transform(data.Tfidf_Question)\n",
    "    \n",
    "#     ans_update = []\n",
    "#     for item in tag_ques.Answer:\n",
    "#         temp.append(item)\n",
    "    \n",
    "    vect = TfidfVectorizer()\n",
    "    \n",
    "    copus = []\n",
    "    for item in data.Tfidf_Question:\n",
    "        copus.append(item)\n",
    "\n",
    "    #include input_sent into the copus to find the similar sentence\n",
    "    copus.append(input_sent)\n",
    "\n",
    "    tfidf = vect.fit_transform(copus)\n",
    "    arr =(tfidf * tfidf.T).toarray()\n",
    "    \n",
    "    np.fill_diagonal(arr, np.nan)\n",
    "    \n",
    "    input_idx = copus.index(input_sent)\n",
    "    result_idx = np.nanargmax(arr[input_idx])\n",
    "    print(ans[result_idx].replace(\"_\",\" \"))\n",
    "    end_time = time.time()\n",
    "    return end_time - start_time"
   ]
  },
  {
   "cell_type": "code",
   "execution_count": 27,
   "metadata": {},
   "outputs": [
    {
     "name": "stdout",
     "output_type": "stream",
     "text": [
      "chắc chắn là có rồi\n",
      "0.7223939895629883\n"
     ]
    }
   ],
   "source": [
    "Tfidf_time = getAnswerWithoutTag_Tfidf(\"bạn có thích xem phim hay không?\")\n",
    "print(Tfidf_time)"
   ]
  },
  {
   "cell_type": "markdown",
   "metadata": {},
   "source": [
    "# word2vec _ SkipGram"
   ]
  },
  {
   "cell_type": "code",
   "execution_count": 28,
   "metadata": {},
   "outputs": [],
   "source": [
    "from gensim.models import Word2Vec\n",
    "model = Word2Vec(clean_ques, min_count = 1,size = 100,sg = 1)"
   ]
  },
  {
   "cell_type": "code",
   "execution_count": 29,
   "metadata": {},
   "outputs": [],
   "source": [
    "def convert2vec(words):\n",
    "    _sum = np.array([0]*100)\n",
    "    for word in words:\n",
    "        if not(word in model.wv.vocab):\n",
    "            continue\n",
    "        vec = model.wv[word]\n",
    "        _sum = _sum + vec\n",
    "    return _sum/len(words)"
   ]
  },
  {
   "cell_type": "code",
   "execution_count": 30,
   "metadata": {},
   "outputs": [],
   "source": [
    "X = []\n",
    "for sent in clean_ques:\n",
    "    if len(sent) == 0:\n",
    "        X.append(np.array([0]*100))\n",
    "    else:\n",
    "        X.append(convert2vec(sent))\n",
    "X = np.array(X)"
   ]
  },
  {
   "cell_type": "markdown",
   "metadata": {},
   "source": [
    "# Text classification"
   ]
  },
  {
   "cell_type": "code",
   "execution_count": 31,
   "metadata": {},
   "outputs": [],
   "source": [
    "text_classify_data = data"
   ]
  },
  {
   "cell_type": "code",
   "execution_count": 32,
   "metadata": {},
   "outputs": [],
   "source": [
    "from sklearn.preprocessing import LabelEncoder\n",
    "\n",
    "encoder = LabelEncoder()\n",
    "encoded_label = encoder.fit_transform(text_classify_data.Tag)\n",
    "text_classify_data.Tag = encoded_label"
   ]
  },
  {
   "cell_type": "code",
   "execution_count": 33,
   "metadata": {},
   "outputs": [],
   "source": [
    "from sklearn.model_selection import train_test_split\n",
    "\n",
    "X_train, X_test, y_train, y_test =  train_test_split(X, data.Tag, test_size=0.2, random_state=0)"
   ]
  },
  {
   "cell_type": "code",
   "execution_count": 34,
   "metadata": {},
   "outputs": [
    {
     "data": {
      "text/plain": [
       "DecisionTreeClassifier()"
      ]
     },
     "execution_count": 34,
     "metadata": {},
     "output_type": "execute_result"
    }
   ],
   "source": [
    "from sklearn.tree import DecisionTreeClassifier\n",
    "\n",
    "clf_decision_word2vec = DecisionTreeClassifier()\n",
    "clf_decision_word2vec.fit(X_train, y_train)"
   ]
  },
  {
   "cell_type": "code",
   "execution_count": 35,
   "metadata": {},
   "outputs": [
    {
     "name": "stdout",
     "output_type": "stream",
     "text": [
      "              precision    recall  f1-score   support\n",
      "\n",
      "           0       0.42      0.41      0.42       124\n",
      "           1       0.27      0.38      0.32        16\n",
      "           2       0.31      0.30      0.30        47\n",
      "           3       0.32      0.37      0.35        75\n",
      "           4       0.45      0.49      0.47        51\n",
      "           5       0.34      0.44      0.38        48\n",
      "           6       0.40      0.38      0.39        86\n",
      "           7       0.41      0.50      0.45        28\n",
      "           8       0.42      0.44      0.43        96\n",
      "           9       0.17      0.12      0.14        40\n",
      "          10       0.33      0.37      0.35        73\n",
      "          11       0.56      0.54      0.55        52\n",
      "          12       0.37      0.23      0.28        61\n",
      "          13       0.60      0.67      0.63       151\n",
      "          14       0.28      0.29      0.29        55\n",
      "          15       0.36      0.31      0.33        45\n",
      "          16       0.23      0.18      0.21        38\n",
      "          17       0.43      0.34      0.38        85\n",
      "\n",
      "    accuracy                           0.41      1171\n",
      "   macro avg       0.37      0.38      0.37      1171\n",
      "weighted avg       0.40      0.41      0.40      1171\n",
      "\n"
     ]
    }
   ],
   "source": [
    "from sklearn.metrics import classification_report\n",
    "from sklearn.metrics import accuracy_score\n",
    "\n",
    "test_predictions_word2vec = clf_decision_word2vec.predict(X_test)\n",
    "SG_clf = accuracy_score(y_test, test_predictions_word2vec)\n",
    "print(classification_report(y_test, test_predictions_word2vec))"
   ]
  },
  {
   "cell_type": "code",
   "execution_count": 36,
   "metadata": {},
   "outputs": [
    {
     "data": {
      "text/plain": [
       "RandomForestClassifier(n_estimators=1000, random_state=0)"
      ]
     },
     "execution_count": 36,
     "metadata": {},
     "output_type": "execute_result"
    }
   ],
   "source": [
    "from sklearn.ensemble import RandomForestClassifier\n",
    "RFC_model = RandomForestClassifier(n_estimators=1000, random_state=0)\n",
    "RFC_model.fit(X_train, y_train)"
   ]
  },
  {
   "cell_type": "code",
   "execution_count": 37,
   "metadata": {},
   "outputs": [],
   "source": [
    "y_pred = RFC_model.predict(X_test)"
   ]
  },
  {
   "cell_type": "code",
   "execution_count": 38,
   "metadata": {},
   "outputs": [
    {
     "name": "stdout",
     "output_type": "stream",
     "text": [
      "              precision    recall  f1-score   support\n",
      "\n",
      "           0       0.39      0.59      0.47       124\n",
      "           1       0.60      0.38      0.46        16\n",
      "           2       0.47      0.47      0.47        47\n",
      "           3       0.39      0.51      0.44        75\n",
      "           4       0.59      0.51      0.55        51\n",
      "           5       0.63      0.54      0.58        48\n",
      "           6       0.74      0.47      0.57        86\n",
      "           7       0.75      0.54      0.63        28\n",
      "           8       0.59      0.43      0.50        96\n",
      "           9       0.47      0.20      0.28        40\n",
      "          10       0.39      0.64      0.48        73\n",
      "          11       0.67      0.69      0.68        52\n",
      "          12       0.53      0.44      0.48        61\n",
      "          13       0.64      0.73      0.68       151\n",
      "          14       0.45      0.36      0.40        55\n",
      "          15       0.36      0.31      0.33        45\n",
      "          16       0.29      0.18      0.23        38\n",
      "          17       0.52      0.49      0.51        85\n",
      "\n",
      "    accuracy                           0.51      1171\n",
      "   macro avg       0.53      0.47      0.49      1171\n",
      "weighted avg       0.53      0.51      0.51      1171\n",
      "\n"
     ]
    }
   ],
   "source": [
    "print(classification_report(y_test,y_pred))\n",
    "SG_RFC = accuracy_score(y_test, y_pred)"
   ]
  },
  {
   "cell_type": "markdown",
   "metadata": {},
   "source": [
    "# Word2Vec CBOW"
   ]
  },
  {
   "cell_type": "code",
   "execution_count": 39,
   "metadata": {},
   "outputs": [],
   "source": [
    "from gensim.models import Word2Vec\n",
    "CBOW_model = Word2Vec(clean_ques, min_count = 1,size = 100)"
   ]
  },
  {
   "cell_type": "code",
   "execution_count": 40,
   "metadata": {},
   "outputs": [],
   "source": [
    "def CBOW_convert2vec(words):\n",
    "    _sum = np.array([0]*100)\n",
    "    for word in words:\n",
    "        if not(word in CBOW_model.wv.vocab):\n",
    "            continue\n",
    "        vec = model.wv[word]\n",
    "        _sum = _sum + vec\n",
    "    return _sum/len(words)"
   ]
  },
  {
   "cell_type": "code",
   "execution_count": 41,
   "metadata": {},
   "outputs": [],
   "source": [
    "CBOW_X = []\n",
    "for sent in clean_ques:\n",
    "    if len(sent) == 0:\n",
    "        CBOW_X.append(np.array([0]*100))\n",
    "    else:\n",
    "        CBOW_X.append(convert2vec(sent))\n",
    "CBOW_X = np.array(X)"
   ]
  },
  {
   "cell_type": "code",
   "execution_count": 42,
   "metadata": {},
   "outputs": [],
   "source": [
    "from sklearn.model_selection import train_test_split\n",
    "\n",
    "X_train, X_test, y_train, y_test =  train_test_split(CBOW_X, data.Tag, test_size=0.2, random_state=0)"
   ]
  },
  {
   "cell_type": "code",
   "execution_count": 43,
   "metadata": {},
   "outputs": [
    {
     "data": {
      "text/plain": [
       "DecisionTreeClassifier()"
      ]
     },
     "execution_count": 43,
     "metadata": {},
     "output_type": "execute_result"
    }
   ],
   "source": [
    "from sklearn.tree import DecisionTreeClassifier\n",
    "\n",
    "clf_decision_word2vec = DecisionTreeClassifier()\n",
    "clf_decision_word2vec.fit(X_train, y_train)"
   ]
  },
  {
   "cell_type": "code",
   "execution_count": 44,
   "metadata": {},
   "outputs": [
    {
     "name": "stdout",
     "output_type": "stream",
     "text": [
      "              precision    recall  f1-score   support\n",
      "\n",
      "           0       0.39      0.38      0.38       124\n",
      "           1       0.32      0.44      0.37        16\n",
      "           2       0.37      0.32      0.34        47\n",
      "           3       0.31      0.39      0.34        75\n",
      "           4       0.52      0.51      0.51        51\n",
      "           5       0.32      0.48      0.39        48\n",
      "           6       0.46      0.38      0.42        86\n",
      "           7       0.38      0.50      0.43        28\n",
      "           8       0.39      0.45      0.42        96\n",
      "           9       0.23      0.15      0.18        40\n",
      "          10       0.36      0.37      0.36        73\n",
      "          11       0.56      0.58      0.57        52\n",
      "          12       0.50      0.26      0.34        61\n",
      "          13       0.59      0.68      0.63       151\n",
      "          14       0.30      0.27      0.29        55\n",
      "          15       0.37      0.36      0.36        45\n",
      "          16       0.44      0.21      0.29        38\n",
      "          17       0.39      0.36      0.38        85\n",
      "\n",
      "    accuracy                           0.42      1171\n",
      "   macro avg       0.40      0.39      0.39      1171\n",
      "weighted avg       0.42      0.42      0.41      1171\n",
      "\n"
     ]
    }
   ],
   "source": [
    "from sklearn.metrics import classification_report\n",
    "from sklearn.metrics import accuracy_score\n",
    "\n",
    "test_predictions_word2vec = clf_decision_word2vec.predict(X_test)\n",
    "print(classification_report(y_test, test_predictions_word2vec))\n",
    "CBOW_clf = accuracy_score(y_test, test_predictions_word2vec)"
   ]
  },
  {
   "cell_type": "code",
   "execution_count": 45,
   "metadata": {},
   "outputs": [
    {
     "data": {
      "text/plain": [
       "RandomForestClassifier(n_estimators=1000, random_state=0)"
      ]
     },
     "execution_count": 45,
     "metadata": {},
     "output_type": "execute_result"
    }
   ],
   "source": [
    "from sklearn.ensemble import RandomForestClassifier\n",
    "RFC_model = RandomForestClassifier(n_estimators=1000, random_state=0)\n",
    "RFC_model.fit(X_train, y_train)"
   ]
  },
  {
   "cell_type": "code",
   "execution_count": 46,
   "metadata": {},
   "outputs": [],
   "source": [
    "y_pred = RFC_model.predict(X_test)"
   ]
  },
  {
   "cell_type": "code",
   "execution_count": 47,
   "metadata": {},
   "outputs": [
    {
     "name": "stdout",
     "output_type": "stream",
     "text": [
      "              precision    recall  f1-score   support\n",
      "\n",
      "           0       0.39      0.59      0.47       124\n",
      "           1       0.60      0.38      0.46        16\n",
      "           2       0.47      0.47      0.47        47\n",
      "           3       0.39      0.51      0.44        75\n",
      "           4       0.59      0.51      0.55        51\n",
      "           5       0.63      0.54      0.58        48\n",
      "           6       0.74      0.47      0.57        86\n",
      "           7       0.75      0.54      0.63        28\n",
      "           8       0.59      0.43      0.50        96\n",
      "           9       0.47      0.20      0.28        40\n",
      "          10       0.39      0.64      0.48        73\n",
      "          11       0.67      0.69      0.68        52\n",
      "          12       0.53      0.44      0.48        61\n",
      "          13       0.64      0.73      0.68       151\n",
      "          14       0.45      0.36      0.40        55\n",
      "          15       0.36      0.31      0.33        45\n",
      "          16       0.29      0.18      0.23        38\n",
      "          17       0.52      0.49      0.51        85\n",
      "\n",
      "    accuracy                           0.51      1171\n",
      "   macro avg       0.53      0.47      0.49      1171\n",
      "weighted avg       0.53      0.51      0.51      1171\n",
      "\n"
     ]
    }
   ],
   "source": [
    "print(classification_report(y_test,y_pred))\n",
    "BOW_RFC = accuracy_score(y_test, y_pred)"
   ]
  },
  {
   "cell_type": "code",
   "execution_count": 48,
   "metadata": {},
   "outputs": [],
   "source": [
    "from scipy import spatial\n",
    "\n",
    "#Find the nearest vector to input question\n",
    "def get_answerWithTag_Clf(input_sent):\n",
    "    start_time = time.time()\n",
    "    # Clean input_sent\n",
    "    input_sent = ViTokenizer.tokenize(input_sent).lower().strip()\n",
    "    input_sent = clean_one_sentence(nltk.word_tokenize(input_sent))\n",
    "    \n",
    "    #Turn input sentence into vector\n",
    "    vector_input = convert2vec(input_sent)\n",
    "    \n",
    "    #Predict tag of input sentence\n",
    "    tag_code = clf_decision_word2vec.predict([vector_input])\n",
    "#     print(\"Tag code: \" + str(tag_code[0]))\n",
    "    tag_ques = text_classify_data[text_classify_data.Tag == tag_code[0]]\n",
    "    temp = []\n",
    "    for sent in tag_ques[\"TC_Question\"]:\n",
    "        if len(sent) == 0:\n",
    "            temp.append(np.array([0]*100))\n",
    "        else:\n",
    "            temp.append(convert2vec(sent))\n",
    "    temp = np.array(X)\n",
    "    \n",
    "    #Find the nearest question in train data | cosine similarity\n",
    "    cosin_lst = []\n",
    "    for idx in range(len(tag_ques)):\n",
    "        cosin_lst.append([1 - spatial.distance.cosine(vector_input, temp[idx]),idx])\n",
    "    possion = max(cosin_lst)[1]\n",
    "    print(ans[possion])\n",
    "    end_time = time.time()\n",
    "    return end_time - start_time"
   ]
  },
  {
   "cell_type": "code",
   "execution_count": 50,
   "metadata": {},
   "outputs": [
    {
     "name": "stdout",
     "output_type": "stream",
     "text": [
      "chấp lun 2 mạng đầu\n",
      "0.0677330493927002\n"
     ]
    }
   ],
   "source": [
    "tag_RFC_time = get_answerWithTag_Clf(\"solo yasou không\")\n",
    "print(tag_RFC_time)"
   ]
  },
  {
   "cell_type": "code",
   "execution_count": 51,
   "metadata": {},
   "outputs": [],
   "source": [
    "def get_answerWithoutTag_Clf(input_sent):\n",
    "    start_time = time.time()\n",
    "    # Clean input_sent\n",
    "    input_sent = ViTokenizer.tokenize(input_sent).lower().strip()\n",
    "    input_sent = clean_one_sentence(nltk.word_tokenize(input_sent))\n",
    "    \n",
    "    #Turn input sentence into vector\n",
    "    vector_input = convert2vec(input_sent)\n",
    "    \n",
    "    #Find the nearest question in train data | cosine similarity\n",
    "    cosin_lst = []\n",
    "    for idx in range(len(data)):\n",
    "        cosin_lst.append([1 - spatial.distance.cosine(vector_input, X[idx]),idx])\n",
    "    possion = max(cosin_lst)[1]\n",
    "    print(ans[possion])\n",
    "    end_time = time.time()\n",
    "    return end_time - start_time"
   ]
  },
  {
   "cell_type": "code",
   "execution_count": 53,
   "metadata": {},
   "outputs": [
    {
     "name": "stdout",
     "output_type": "stream",
     "text": [
      "chấp lun 2 mạng đầu\n",
      "0.3534541130065918\n"
     ]
    }
   ],
   "source": [
    "RFC_time = get_answerWithoutTag_Clf(\"solo yasou không\")\n",
    "print(RFC_time)"
   ]
  },
  {
   "cell_type": "code",
   "execution_count": 54,
   "metadata": {},
   "outputs": [
    {
     "data": {
      "text/plain": [
       "Text(0, 0.5, 'Time')"
      ]
     },
     "execution_count": 54,
     "metadata": {},
     "output_type": "execute_result"
    },
    {
     "data": {
      "image/png": "[encoded data removed]",
      "text/plain": [
       "<Figure size 864x576 with 1 Axes>"
      ]
     },
     "metadata": {
      "needs_background": "light"
     },
     "output_type": "display_data"
    }
   ],
   "source": [
    "import matplotlib.pyplot as plt\n",
    "labels = ['Counter','TF-IDF With Tag','TF-IDF Without Tag','RFC With Tag','RFC Without Tag']\n",
    "index = [i for i in range(6)]\n",
    "df = pd.DataFrame({'Run Time' : [Counter_time,Tag_Tfidf_time,Tfidf_time,tag_RFC_time,RFC_time]}\n",
    "                , index = labels)\n",
    "ax = df.plot.bar(rot=90, edgecolor = 'black',figsize=(12, 8))\n",
    "\n",
    "\n",
    "plt.title(\"Running Time\")\n",
    "plt.xlabel(\"Methods\")\n",
    "plt.ylabel(\"Time\")"
   ]
  },
  {
   "cell_type": "code",
   "execution_count": 61,
   "metadata": {},
   "outputs": [
    {
     "data": {
      "text/plain": [
       "Text(0, 0.5, 'Accuracy')"
      ]
     },
     "execution_count": 61,
     "metadata": {},
     "output_type": "execute_result"
    },
    {
     "data": {
      "image/png": "[encoded data removed]",
      "text/plain": [
       "<Figure size 864x576 with 1 Axes>"
      ]
     },
     "metadata": {
      "needs_background": "light"
     },
     "output_type": "display_data"
    }
   ],
   "source": [
    "labels = [\"TF IDF\",\"SG RFC\",\"CBOW RFC\"]\n",
    "index = [i for i in range(6)]\n",
    "df1 = pd.DataFrame({'Accuracy Score' : [TF_IDF,SG_RFC,BOW_RFC]}\n",
    "                , index = labels)\n",
    "ax = df1.plot.bar(rot=90, edgecolor = 'black',figsize=(12, 8))\n",
    "\n",
    "\n",
    "plt.title(\"Accuracy Score\")\n",
    "plt.xlabel(\"Methods\")\n",
    "plt.ylabel(\"Accuracy\")"
   ]
  },
  {
   "cell_type": "code",
   "execution_count": null,
   "metadata": {},
   "outputs": [],
   "source": []
  }
 ],
 "metadata": {
  "kernelspec": {
   "display_name": "Python 3",
   "language": "python",
   "name": "python3"
  },
  "language_info": {
   "codemirror_mode": {
    "name": "ipython",
    "version": 3
   },
   "file_extension": ".py",
   "mimetype": "text/x-python",
   "name": "python",
   "nbconvert_exporter": "python",
   "pygments_lexer": "ipython3",
   "version": "3.8.5"
  }
 },
 "nbformat": 4,
 "nbformat_minor": 4
}
