{
 "cells": [
  {
   "cell_type": "code",
   "execution_count": 6,
   "metadata": {},
   "outputs": [],
   "source": [
    "import pandas as pd\n",
    "from pyvi import ViTokenizer, ViPosTagger\n",
    "import nltk\n",
    "import numpy as np"
   ]
  },
  {
   "cell_type": "code",
   "execution_count": 60,
   "metadata": {},
   "outputs": [
    {
     "name": "stdout",
     "output_type": "stream",
     "text": [
      "18\n"
     ]
    }
   ],
   "source": [
    "# filename = \"./dataset/bạn bè.txt\"\n",
    "# df = pd.read_fwf(filename,header = None, encoding=\"utf-8\")\n",
    "filename =[\"bạn bè.txt\",\"các câu hỏi phức tạp.txt\",\"du lịch.txt\",\"gia đình.txt\",\"giải trí.txt\",\n",
    "           \"học tập.txt\",\"nghề nghiệp.txt\",\"nghỉ lễ.txt\",\"người yêu.txt\",\"robot.txt\",\"shoping.txt\",\n",
    "           \"sở thích.txt\",\"tdtu.txt\",\"thông tin cá nhân.txt\",\"trò chuyện về đi ăn.txt\",\"tán gẫu.txt\",\"đất nước.txt\",\"địa chỉ.txt\"]\n",
    "# df = pd.read_fwf(filename,header = None)\n",
    "# df.head()\n",
    "print(len(filename))"
   ]
  },
  {
   "cell_type": "code",
   "execution_count": 61,
   "metadata": {},
   "outputs": [],
   "source": [
    "df = df[0]"
   ]
  },
  {
   "cell_type": "code",
   "execution_count": 62,
   "metadata": {},
   "outputs": [],
   "source": [
    "temp_ques = []\n",
    "temp_ans = []\n",
    "tag = []\n",
    "for k in range(len(filename)):\n",
    "    with open('dataset/' + filename[k], encoding=\"utf-8\") as f:\n",
    "        lines = f.readlines()\n",
    "    for i in range(len(lines)):\n",
    "        if lines[i].startswith('__eou__'):\n",
    "            continue\n",
    "        else:\n",
    "            part = lines[i].strip('__eou__').split('__eou__')\n",
    "            temp_ques.append(ViTokenizer.tokenize(part[0].lower().strip()))\n",
    "            temp_ans.append(ViTokenizer.tokenize(part[1].lower().strip()))\n",
    "            tag.append(filename[k].split(\".\")[0])"
   ]
  },
  {
   "cell_type": "code",
   "execution_count": 75,
   "metadata": {},
   "outputs": [
    {
     "data": {
      "text/html": [
       "<div>\n",
       "<style scoped>\n",
       "    .dataframe tbody tr th:only-of-type {\n",
       "        vertical-align: middle;\n",
       "    }\n",
       "\n",
       "    .dataframe tbody tr th {\n",
       "        vertical-align: top;\n",
       "    }\n",
       "\n",
       "    .dataframe thead th {\n",
       "        text-align: right;\n",
       "    }\n",
       "</style>\n",
       "<table border=\"1\" class=\"dataframe\">\n",
       "  <thead>\n",
       "    <tr style=\"text-align: right;\">\n",
       "      <th></th>\n",
       "      <th>Question</th>\n",
       "      <th>Answer</th>\n",
       "      <th>Tag</th>\n",
       "    </tr>\n",
       "  </thead>\n",
       "  <tbody>\n",
       "    <tr>\n",
       "      <th>0</th>\n",
       "      <td>thích đánh_lộn không ?</td>\n",
       "      <td>ngon nhà_vô</td>\n",
       "      <td>bạn bè</td>\n",
       "    </tr>\n",
       "    <tr>\n",
       "      <th>1</th>\n",
       "      <td>solo yasua không</td>\n",
       "      <td>chấp lun 2 mạng đầu</td>\n",
       "      <td>bạn bè</td>\n",
       "    </tr>\n",
       "    <tr>\n",
       "      <th>2</th>\n",
       "      <td>mai đi picnic không ?</td>\n",
       "      <td>mai bận học rồi</td>\n",
       "      <td>bạn bè</td>\n",
       "    </tr>\n",
       "    <tr>\n",
       "      <th>3</th>\n",
       "      <td>mai học ca mấy vậy ?</td>\n",
       "      <td>mai học ca 3</td>\n",
       "      <td>bạn bè</td>\n",
       "    </tr>\n",
       "    <tr>\n",
       "      <th>4</th>\n",
       "      <td>còn tiền không ?</td>\n",
       "      <td>còn chết liền</td>\n",
       "      <td>bạn bè</td>\n",
       "    </tr>\n",
       "  </tbody>\n",
       "</table>\n",
       "</div>"
      ],
      "text/plain": [
       "                 Question               Answer     Tag\n",
       "0  thích đánh_lộn không ?          ngon nhà_vô  bạn bè\n",
       "1        solo yasua không  chấp lun 2 mạng đầu  bạn bè\n",
       "2   mai đi picnic không ?      mai bận học rồi  bạn bè\n",
       "3    mai học ca mấy vậy ?         mai học ca 3  bạn bè\n",
       "4        còn tiền không ?        còn chết liền  bạn bè"
      ]
     },
     "execution_count": 75,
     "metadata": {},
     "output_type": "execute_result"
    }
   ],
   "source": [
    "data = pd.DataFrame({'Question':temp_ques,'Answer':temp_ans,'Tag':tag})\n",
    "data.head()"
   ]
  },
  {
   "cell_type": "code",
   "execution_count": 64,
   "metadata": {},
   "outputs": [],
   "source": [
    "ques = np.array(data[\"Question\"])\n",
    "ans = np.array(data[\"Answer\"])\n",
    "ques_sentences=[nltk.word_tokenize(sent) for sent in ques]\n",
    "ans_sentences=[nltk.word_tokenize(sent) for sent in ans] "
   ]
  },
  {
   "cell_type": "code",
   "execution_count": 65,
   "metadata": {},
   "outputs": [],
   "source": [
    "def clean_sentences(sentences):\n",
    "    Punc = {'.', ',', '...', '-', '“', '”', ':', '(', ')', '\"', '!', '&', ';', '?', '*', ']', '>', '…', '’',\"``\",\"''\"}\n",
    "    clean_sent = []\n",
    "    for sent in sentences:\n",
    "        temp =[]\n",
    "        for item in sent:\n",
    "            if item in Punc:\n",
    "                continue\n",
    "            elif(item.isdigit()):\n",
    "                temp.append(\"Num\")\n",
    "            else:\n",
    "                temp.append(item)\n",
    "        clean_sent.append(temp)\n",
    "    return clean_sent"
   ]
  },
  {
   "cell_type": "code",
   "execution_count": 66,
   "metadata": {},
   "outputs": [],
   "source": [
    "def clean_one_sentence(sentences):\n",
    "    Punc = {'.', ',', '...', '-', '“', '”', ':', '(', ')', '\"', '!', '&', ';', '?', '*', ']', '>', '…', '’',\"``\",\"''\"}\n",
    "    clean_sent = []\n",
    "    for sent in sentences:\n",
    "        if sent in Punc:\n",
    "            continue\n",
    "        elif(sent.isdigit()):\n",
    "            clean_sent.append(\"Num\")\n",
    "        else:\n",
    "            clean_sent.append(sent)\n",
    "    return clean_sent"
   ]
  },
  {
   "cell_type": "code",
   "execution_count": 67,
   "metadata": {},
   "outputs": [],
   "source": [
    "clean_ques = clean_sentences(ques_sentences)\n",
    "clean_ans = clean_sentences(ans_sentences)\n",
    "# print(len(clean_ques))\n",
    "# print(len(clean_ans))"
   ]
  },
  {
   "cell_type": "markdown",
   "metadata": {},
   "source": [
    "### Word2Vec"
   ]
  },
  {
   "cell_type": "code",
   "execution_count": 68,
   "metadata": {},
   "outputs": [],
   "source": [
    "from gensim.models import Word2Vec\n",
    "model = Word2Vec(clean_ques, min_count = 1,size = 100)"
   ]
  },
  {
   "cell_type": "code",
   "execution_count": 69,
   "metadata": {},
   "outputs": [],
   "source": [
    "def convert2vec(words):\n",
    "    _sum = np.array([0]*100)\n",
    "    for word in words:\n",
    "        if not(word in model.wv.vocab):\n",
    "            continue\n",
    "        vec = model.wv[word]\n",
    "        _sum = _sum + vec\n",
    "    return _sum/len(words)"
   ]
  },
  {
   "cell_type": "code",
   "execution_count": 121,
   "metadata": {},
   "outputs": [],
   "source": [
    "X = []\n",
    "for sent in clean_ques:\n",
    "    if len(sent) == 0:\n",
    "        X.append(np.array([0]*100))\n",
    "    else:\n",
    "        X.append(convert2vec(sent))\n",
    "X = np.array(X)"
   ]
  },
  {
   "cell_type": "markdown",
   "metadata": {},
   "source": [
    "## Text classification"
   ]
  },
  {
   "cell_type": "code",
   "execution_count": 93,
   "metadata": {},
   "outputs": [],
   "source": [
    "text_classify_data = data"
   ]
  },
  {
   "cell_type": "code",
   "execution_count": 94,
   "metadata": {},
   "outputs": [],
   "source": [
    "from sklearn.preprocessing import LabelEncoder\n",
    "\n",
    "encoder = LabelEncoder()\n",
    "encoded_label = encoder.fit_transform(text_classify_data.Tag)\n",
    "text_classify_data.Tag = encoded_label"
   ]
  },
  {
   "cell_type": "code",
   "execution_count": 95,
   "metadata": {},
   "outputs": [],
   "source": [
    "from sklearn.model_selection import train_test_split\n",
    "\n",
    "X_train, X_test, y_train, y_test =  train_test_split(X, data.Tag, test_size=0.2, random_state=0)"
   ]
  },
  {
   "cell_type": "code",
   "execution_count": 96,
   "metadata": {},
   "outputs": [
    {
     "data": {
      "text/plain": [
       "DecisionTreeClassifier(class_weight=None, criterion='gini', max_depth=None,\n",
       "            max_features=None, max_leaf_nodes=None,\n",
       "            min_impurity_decrease=0.0, min_impurity_split=None,\n",
       "            min_samples_leaf=1, min_samples_split=2,\n",
       "            min_weight_fraction_leaf=0.0, presort=False, random_state=None,\n",
       "            splitter='best')"
      ]
     },
     "execution_count": 96,
     "metadata": {},
     "output_type": "execute_result"
    }
   ],
   "source": [
    "from sklearn.tree import DecisionTreeClassifier\n",
    "\n",
    "clf_decision_word2vec = DecisionTreeClassifier()\n",
    "clf_decision_word2vec.fit(X_train, y_train)"
   ]
  },
  {
   "cell_type": "code",
   "execution_count": 98,
   "metadata": {},
   "outputs": [
    {
     "name": "stdout",
     "output_type": "stream",
     "text": [
      "Accuracy score: 0.3842869342442357\n",
      "              precision    recall  f1-score   support\n",
      "\n",
      "           0       0.33      0.35      0.34       124\n",
      "           1       0.17      0.38      0.23        16\n",
      "           2       0.40      0.36      0.38        47\n",
      "           3       0.28      0.44      0.34        75\n",
      "           4       0.45      0.45      0.45        51\n",
      "           5       0.45      0.48      0.46        48\n",
      "           6       0.39      0.35      0.37        86\n",
      "           7       0.22      0.29      0.25        28\n",
      "           8       0.46      0.41      0.43        96\n",
      "           9       0.12      0.07      0.09        40\n",
      "          10       0.33      0.38      0.36        73\n",
      "          11       0.53      0.50      0.51        52\n",
      "          12       0.26      0.15      0.19        61\n",
      "          13       0.60      0.63      0.61       151\n",
      "          14       0.31      0.20      0.24        55\n",
      "          15       0.39      0.33      0.36        45\n",
      "          16       0.28      0.26      0.27        38\n",
      "          17       0.37      0.36      0.37        85\n",
      "\n",
      "   micro avg       0.38      0.38      0.38      1171\n",
      "   macro avg       0.35      0.36      0.35      1171\n",
      "weighted avg       0.39      0.38      0.38      1171\n",
      "\n"
     ]
    }
   ],
   "source": [
    "from sklearn.metrics import classification_report\n",
    "from sklearn.metrics import accuracy_score\n",
    "\n",
    "test_predictions_word2vec = clf_decision_word2vec.predict(X_test)\n",
    "print(\"Accuracy score: \" + str(accuracy_score(y_test, test_predictions_word2vec)))\n",
    "print(classification_report(y_test, test_predictions_word2vec))"
   ]
  },
  {
   "cell_type": "code",
   "execution_count": 99,
   "metadata": {},
   "outputs": [
    {
     "data": {
      "text/plain": [
       "RandomForestClassifier(bootstrap=True, class_weight=None, criterion='gini',\n",
       "            max_depth=None, max_features='auto', max_leaf_nodes=None,\n",
       "            min_impurity_decrease=0.0, min_impurity_split=None,\n",
       "            min_samples_leaf=1, min_samples_split=2,\n",
       "            min_weight_fraction_leaf=0.0, n_estimators=1000, n_jobs=None,\n",
       "            oob_score=False, random_state=0, verbose=0, warm_start=False)"
      ]
     },
     "execution_count": 99,
     "metadata": {},
     "output_type": "execute_result"
    }
   ],
   "source": [
    "from sklearn.ensemble import RandomForestClassifier\n",
    "\n",
    "RFC_model = RandomForestClassifier(n_estimators=1000, random_state=0)\n",
    "RFC_model.fit(X_train, y_train) "
   ]
  },
  {
   "cell_type": "code",
   "execution_count": 100,
   "metadata": {},
   "outputs": [],
   "source": [
    "y_pred = RFC_model.predict(X_test)"
   ]
  },
  {
   "cell_type": "code",
   "execution_count": 101,
   "metadata": {},
   "outputs": [
    {
     "name": "stdout",
     "output_type": "stream",
     "text": [
      "              precision    recall  f1-score   support\n",
      "\n",
      "           0       0.34      0.60      0.43       124\n",
      "           1       0.70      0.44      0.54        16\n",
      "           2       0.46      0.40      0.43        47\n",
      "           3       0.38      0.47      0.42        75\n",
      "           4       0.59      0.53      0.56        51\n",
      "           5       0.60      0.50      0.55        48\n",
      "           6       0.63      0.44      0.52        86\n",
      "           7       0.62      0.36      0.45        28\n",
      "           8       0.55      0.44      0.49        96\n",
      "           9       0.27      0.10      0.15        40\n",
      "          10       0.33      0.67      0.45        73\n",
      "          11       0.65      0.60      0.62        52\n",
      "          12       0.80      0.33      0.47        61\n",
      "          13       0.62      0.72      0.67       151\n",
      "          14       0.34      0.20      0.25        55\n",
      "          15       0.48      0.27      0.34        45\n",
      "          16       0.44      0.18      0.26        38\n",
      "          17       0.48      0.52      0.50        85\n",
      "\n",
      "   micro avg       0.48      0.48      0.48      1171\n",
      "   macro avg       0.52      0.43      0.45      1171\n",
      "weighted avg       0.51      0.48      0.47      1171\n",
      "\n"
     ]
    }
   ],
   "source": [
    "print(classification_report(y_test,y_pred))"
   ]
  },
  {
   "cell_type": "code",
   "execution_count": 140,
   "metadata": {},
   "outputs": [],
   "source": [
    "from scipy import spatial\n",
    "\n",
    "#Find the nearest vector to input question\n",
    "def get_answer(input_sent):\n",
    "    # Clean input_sent\n",
    "    input_sent = ViTokenizer.tokenize(input_sent).lower().strip()\n",
    "    input_sent = clean_one_sentence(nltk.word_tokenize(input_sent))\n",
    "    \n",
    "    #Turn input sentence into vector\n",
    "    vector_input = convert2vec(input_sent)\n",
    "    \n",
    "    #Predict tag of input sentence\n",
    "    tag_code = clf_decision_word2vec.predict([vector_input])\n",
    "    print(\"Tag code: \" + str(tag_code[0]))\n",
    "    tag_ques = text_classify_data[text_classify_data.Tag == tag_code[0]]\n",
    "    \n",
    "    #Find the nearest question in train data | cosine similarity\n",
    "    cosin_lst = []\n",
    "    for idx in range(len(tag_ques)):\n",
    "        cosin_lst.append([1 - spatial.distance.cosine(vector_input, X[idx]),idx])\n",
    "    possion = max(cosin_lst)[1]\n",
    "    print(ans[possion])"
   ]
  },
  {
   "cell_type": "code",
   "execution_count": 143,
   "metadata": {},
   "outputs": [
    {
     "name": "stdout",
     "output_type": "stream",
     "text": [
      "Tag code: 11\n",
      "có mình thích nấu_ăn và mình cũng hay nấu_ăn khi rãnh rỗi\n"
     ]
    }
   ],
   "source": [
    "get_answer(\"Bạn nữ có hào hứng khi trò chuyện không?\")"
   ]
  },
  {
   "cell_type": "markdown",
   "metadata": {},
   "source": [
    "## Counter"
   ]
  },
  {
   "cell_type": "code",
   "execution_count": 69,
   "metadata": {},
   "outputs": [],
   "source": [
    "import math\n",
    "from collections import Counter"
   ]
  },
  {
   "cell_type": "code",
   "execution_count": 70,
   "metadata": {},
   "outputs": [],
   "source": [
    "def get_cosine(vec1, vec2):\n",
    "    intersection = set(vec1.keys()) & set(vec2.keys())\n",
    "    numerator = sum([vec1[x] * vec2[x] for x in intersection])\n",
    "\n",
    "    sum1 = sum([vec1[x]**2 for x in vec1.keys()])\n",
    "    sum2 = sum([vec2[x]**2 for x in vec2.keys()])\n",
    "    denominator = math.sqrt(sum1) * math.sqrt(sum2)\n",
    "\n",
    "    if not denominator:\n",
    "        return 0.0\n",
    "    else:\n",
    "        return float(numerator) / denominator"
   ]
  },
  {
   "cell_type": "code",
   "execution_count": 134,
   "metadata": {},
   "outputs": [],
   "source": [
    "def chat(input_):\n",
    "    x = ViTokenizer.tokenize(input_).lower().strip()\n",
    "    text1 = clean_one_sentence(nltk.word_tokenize(x))\n",
    "    vector1 = Counter(text1)\n",
    "    cosin = []\n",
    "    # temp = []\n",
    "\n",
    "    for i in range(len(clean_ques)):\n",
    "        text2 = clean_ques[i]\n",
    "        vector2 = Counter(text2)\n",
    "        cosin.append([get_cosine(vector1, vector2),i])\n",
    "    possion = max(cosin)[1]\n",
    "    print(ans[possion])"
   ]
  },
  {
   "cell_type": "code",
   "execution_count": 135,
   "metadata": {},
   "outputs": [
    {
     "name": "stdout",
     "output_type": "stream",
     "text": [
      "buồn lắm bạn à , crush unfriend trên facebook tui rồi , giờ tôi muốn nhắn_tin với crush cũng k được nữa\n"
     ]
    }
   ],
   "source": [
    "chat(\"Dạo này, Ổn không?>>\")"
   ]
  },
  {
   "cell_type": "code",
   "execution_count": null,
   "metadata": {},
   "outputs": [],
   "source": [
    "temp = \"dữ liệu chatbot - dự án cuối kỳ\""
   ]
  }
 ],
 "metadata": {
  "kernelspec": {
   "display_name": "Python 3",
   "language": "python",
   "name": "python3"
  },
  "language_info": {
   "codemirror_mode": {
    "name": "ipython",
    "version": 3
   },
   "file_extension": ".py",
   "mimetype": "text/x-python",
   "name": "python",
   "nbconvert_exporter": "python",
   "pygments_lexer": "ipython3",
   "version": "3.6.7rc1"
  }
 },
 "nbformat": 4,
 "nbformat_minor": 4
}
